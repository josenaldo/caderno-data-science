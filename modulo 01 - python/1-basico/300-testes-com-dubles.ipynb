{
 "cells": [
  {
   "cell_type": "markdown",
   "metadata": {},
   "source": [
    "# Testes com Dublês"
   ]
  },
  {
   "cell_type": "markdown",
   "metadata": {},
   "source": [
    "Quando estamos criando testes de unidades, existem casos em que o\n",
    "recurso testado faz uso de um recurso externo (um arquivo, uma página\n",
    "web, um banco de dados, uma API, etc.). Em casos como esse, é preciso\n",
    "usar um \"dublê\" para esse recurso externo, de forma que o dublê finja\n",
    "ser o recurso externo e isso nos permita executar os testes com\n",
    "segurança."
   ]
  },
  {
   "cell_type": "markdown",
   "metadata": {},
   "source": []
  },
  {
   "cell_type": "markdown",
   "metadata": {},
   "source": []
  }
 ],
 "metadata": {
  "interpreter": {
   "hash": "8ae6e8347844ce31cefbfab1c46c85d6003d3a1108122483edd0f60efc9feef7"
  },
  "kernelspec": {
   "display_name": "Python 3.9.7 64-bit (conda)",
   "name": "python3"
  },
  "language_info": {
   "name": "python",
   "version": "3.9.7"
  },
  "orig_nbformat": 4
 },
 "nbformat": 4,
 "nbformat_minor": 2
}
