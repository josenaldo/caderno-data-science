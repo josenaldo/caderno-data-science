{
  "cells": [
    {
      "cell_type": "markdown",
      "metadata": {
        "id": "LSPHqVUFckTR",
        "colab_type": "text"
      },
      "source": [
        "# **If**"
      ]
    },
    {
      "cell_type": "code",
      "metadata": {
        "id": "UshFBe_vF_EQ",
        "colab_type": "code",
        "colab": {}
      },
      "source": [
        "x = 10\n",
        "if x > 0:\n",
        "\tprint('Número positivo')\n",
        "else:\n",
        "\tprint('Número negativo')"
      ],
      "execution_count": 0,
      "outputs": []
    },
    {
      "cell_type": "markdown",
      "metadata": {
        "id": "hzFJUWCkp1ik",
        "colab_type": "text"
      },
      "source": [
        "# **Conectivos Lógicos**\n",
        "![alt text](http://uploaddeimagens.com.br/images/002/157/511/full/conectivos-logicos.jpg?1561550251)"
      ]
    },
    {
      "cell_type": "code",
      "metadata": {
        "id": "O4RpA6p5baPA",
        "colab_type": "code",
        "colab": {}
      },
      "source": [
        "x = \"janeiro\"\n",
        "if x == 'janeiro' or x == 'fevereiro' or x == 'março':\n",
        "\tprint('Trimestre 1')\n",
        "elif x == 'abril' or x == 'maio' or x == 'junho':\n",
        "\tprint('Trimestre 2')\n",
        "else:\n",
        "\tprint('Trimestre 3')"
      ],
      "execution_count": 0,
      "outputs": []
    },
    {
      "cell_type": "markdown",
      "metadata": {
        "id": "q1yVwPBZl3Jl",
        "colab_type": "text"
      },
      "source": [
        "## **>>> Exercícios**\n",
        "\n",
        "\n",
        "1.   Crie um algoritmo que solicite do usuário um número e calcule se ele é POSITIVO ou NEGATIVO (fácil)\n",
        "2.   Crie um algoritmo que solicite peso e altura e como resultado printe o IMC na tela (médio)\n",
        "3.   Crie um algoritmo que solicite do usuário um número e printe na tela PAR, quando número par e IMPAR, quando número ímpar(difícil)"
      ]
    },
    {
      "cell_type": "code",
      "execution_count": 3,
      "metadata": {},
      "outputs": [
        {
          "output_type": "stream",
          "name": "stdout",
          "text": "Saporra é positiva!\n"
        }
      ],
      "source": [
        "# Exercício 1\n",
        "num = int(input(\"Fala um número aí, vergonha da mãe: \"))\n",
        "\n",
        "if(num >= 0):\n",
        "    print(\"Saporra é positiva!\")\n",
        "else:\n",
        "    print(\"Saporra é negativa!\")"
      ]
    },
    {
      "cell_type": "code",
      "execution_count": 7,
      "metadata": {},
      "outputs": [
        {
          "output_type": "stream",
          "name": "stdout",
          "text": "Tu tem obesidade de grau I, podendo ter diabetes, infarto, angina e aterosclerose.\n"
        }
      ],
      "source": [
        "# Exercício 2\n",
        "peso = float(input(\"Qualé teu peso, fidi rapariga? \"))\n",
        "altura = float(input(\"Qualé tua altura, jumentalidade? \"))\n",
        "\n",
        "imc = peso / (altura**2)\n",
        "\n",
        "if(imc < 16):\n",
        "    print(\"Tu tem magreza grave e pode ter insuficiência cardíaca, anemia grave e enfraquecimento do sistema imunológico.\")\n",
        "elif(imc >= 16 and imc < 17):\n",
        "    print(\"Tu tem magreza moderada, e pode ter infertilidade, queda de cabelo e falta de menstruação.\")\n",
        "elif(imc >= 17 and imc < 18.5):\n",
        "    print(\"Tu tem magreza leve, e póde ter estresse, ansiedade e fadiga.\")\n",
        "elif(imc >= 18.5 and imc < 25):\n",
        "    print(\"Tue é considerado saudável, apresentando menor risco para doenças. Vai te lascar, arrombado\")\n",
        "elif(imc >= 25 and imc < 30):\n",
        "    print(\"Tu tem sobrepeso, podendo ter fadiga, varizes e má circulação.\")\n",
        "elif(imc >= 30 and imc < 35):\n",
        "    print(\"Tu tem obesidade de grau I, podendo ter diabetes, infarto, angina e aterosclerose.\")\n",
        "elif(imc >= 35 and imc < 40):\n",
        "    print(\"Tu tem obesidade de grau II (severa), podendo ter falta de ar e apneia do sono.\")\n",
        "else:\n",
        "    print(\"Tu tá com obesidade de grau III (mórbida), podendo ter refluxo, infartos, AVC, dificuldades de locomoção e escaras.\")"
      ]
    },
    {
      "cell_type": "code",
      "execution_count": 11,
      "metadata": {},
      "outputs": [
        {
          "output_type": "stream",
          "name": "stdout",
          "text": "Saporra é PAR!\n"
        }
      ],
      "source": [
        "num = int(input(\"Fala um número aí, vergonha da mãe: \"))\n",
        "\n",
        "if(num % 2 == 0):\n",
        "    print(\"Saporra é PAR!\")\n",
        "else:\n",
        "    print(\"Saporra é IMPAR!\")"
      ]
    }
  ],
  "metadata": {
    "colab": {
      "name": "Condicionais.ipynb",
      "provenance": [],
      "private_outputs": true,
      "collapsed_sections": []
    },
    "kernelspec": {
      "name": "python3",
      "display_name": "Python 3"
    },
    "accelerator": "GPU"
  },
  "nbformat": 4,
  "nbformat_minor": 0
}