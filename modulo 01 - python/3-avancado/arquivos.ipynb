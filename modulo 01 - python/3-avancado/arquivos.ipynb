{
  "nbformat": 4,
  "nbformat_minor": 0,
  "metadata": {
    "colab": {
      "name": "Arquivos.ipynb",
      "provenance": [],
      "private_outputs": true
    },
    "kernelspec": {
      "name": "python3",
      "display_name": "Python 3"
    },
    "accelerator": "GPU"
  },
  "cells": [
    {
      "cell_type": "markdown",
      "metadata": {
        "id": "g1uN_eyr779z",
        "colab_type": "text"
      },
      "source": [
        "# **>>> Arquivos**\n",
        "\n",
        "---\n",
        "\n"
      ]
    },
    {
      "cell_type": "markdown",
      "metadata": {
        "id": "FbyIYvUQqSJo",
        "colab_type": "text"
      },
      "source": [
        "## **Upload de arquivos do seu sistema de arquivos local**\n",
        "\n",
        "---\n",
        "\n",
        "\n",
        "files.upload retorna um dicionário dos arquivos que foram enviados. O dicionário é digitado pelo nome do arquivo e os valores são os dados que foram enviados."
      ]
    },
    {
      "cell_type": "code",
      "metadata": {
        "id": "FamCSHZNqldk",
        "colab_type": "code",
        "colab": {}
      },
      "source": [
        "from google.colab import files\n",
        "up = files.upload()"
      ],
      "execution_count": 0,
      "outputs": []
    },
    {
      "cell_type": "code",
      "metadata": {
        "id": "PATvmSx477Y1",
        "colab_type": "code",
        "colab": {}
      },
      "source": [
        "arq1 = open(\"arquivodetexto.txt\", \"r\")\n",
        "print(arq1.read())"
      ],
      "execution_count": 0,
      "outputs": []
    },
    {
      "cell_type": "markdown",
      "metadata": {
        "id": "Vc6LLs-zLrRz",
        "colab_type": "text"
      },
      "source": [
        "# **Upload direto do Google Drive**\n",
        "\n",
        "---\n",
        "\n",
        "O exemplo abaixo mostra como acessar seu Google Drive usando um código de autorização e como gravar/ler arquivos ele. Uma vez executado, você poderá ver o novo arquivo (foo.txt) em https://drive.google.com/.\n",
        "\n",
        "Observe que isso apenas suporta leitura, gravação e movimentação de arquivos; Para modificar programaticamente as configurações de compartilhamento ou outros metadados, use uma das outras opções abaixo."
      ]
    },
    {
      "cell_type": "code",
      "metadata": {
        "id": "xVN3o9h2Lvm8",
        "colab_type": "code",
        "colab": {}
      },
      "source": [
        "from google.colab import drive\n",
        "drive.mount('/content/drive')"
      ],
      "execution_count": 0,
      "outputs": []
    },
    {
      "cell_type": "markdown",
      "metadata": {
        "id": "LgHJw8ZQ7hlE",
        "colab_type": "text"
      },
      "source": [
        "# **>>> Modos de abertura**\n",
        "\n",
        "---\n",
        "\n",
        "\n",
        ">Modo | Descrição\n",
        ">--- | ---\n",
        ">r | Abre o arquivo para leitura(caso não exista, cria-o). Posição: início do arquivo.\n",
        ">r+ | Abre o arquivo para leitura e escrita(caso não exista, cria-o). Posição: início do arquivo.\n",
        ">w | Se o arquivo existir, ele é aberto para escrita e o seu conteúdo apagado(caso não exista, cria-o). Posição: início do arquivo.\n",
        ">w+ | Se o arquivo existir, ele é aberto para escrita/leitura e o seu conteúdo apagado(caso não exista, cria-o). Posição: início do arquivo.\n",
        ">a | Se o arquivo existir, ele é aberto para escrita(caso não exista, cria-o). Posição: final do arquivo.\n",
        ">a+ | Se o arquivo existir, ele é aberto para escrita e leitura(caso não exista, cria-o). Posição: final do arquivo."
      ]
    },
    {
      "cell_type": "markdown",
      "metadata": {
        "id": "qNbbFKUR22nG",
        "colab_type": "text"
      },
      "source": [
        "# **>>> Contar Caracteres**\n",
        "\n",
        "---\n",
        "\n"
      ]
    },
    {
      "cell_type": "code",
      "metadata": {
        "id": "wKfmyR402pQf",
        "colab_type": "code",
        "colab": {}
      },
      "source": [
        "# Você pode contar o número de caracteres do arquivo \n",
        "print(arq1.tell())\n",
        "arq1.close() #não esqueça de sempre fechar o arquivo"
      ],
      "execution_count": 0,
      "outputs": []
    },
    {
      "cell_type": "markdown",
      "metadata": {
        "id": "nCue_Dd527GA",
        "colab_type": "text"
      },
      "source": [
        "# **>>> Gravar arquivos**\n",
        "\n",
        "---\n",
        "\n"
      ]
    },
    {
      "cell_type": "code",
      "metadata": {
        "id": "ON2YEuo62qzP",
        "colab_type": "code",
        "colab": {}
      },
      "source": [
        "arquivo = open(\"arquivodetexto.txt\", \"w\")\n",
        "arquivo.write(\"Nova linha inserida via Python.\")\n",
        "arquivo.close() #não esqueça de sempre fechar o arquivo"
      ],
      "execution_count": 0,
      "outputs": []
    },
    {
      "cell_type": "code",
      "metadata": {
        "id": "0vlwWuUi2sWX",
        "colab_type": "code",
        "colab": {}
      },
      "source": [
        "arquivo = open(\"arquivodetexto.txt\", \"r\")\n",
        "print(arquivo.read())\n",
        "arquivo.close()"
      ],
      "execution_count": 0,
      "outputs": []
    },
    {
      "cell_type": "markdown",
      "metadata": {
        "id": "UqclyhET2_2v",
        "colab_type": "text"
      },
      "source": [
        "# **>>> Acrescentando com o append**\n",
        "\n",
        "---\n",
        "\n"
      ]
    },
    {
      "cell_type": "code",
      "metadata": {
        "id": "Fkv0NFEK2te3",
        "colab_type": "code",
        "colab": {}
      },
      "source": [
        "arquivo3 = open(\"arquivodetexto.txt\", \"a\")\n",
        "arquivo3.write(\"Nova linha inserida\")\n",
        "arquivo3.close()"
      ],
      "execution_count": 0,
      "outputs": []
    },
    {
      "cell_type": "code",
      "metadata": {
        "id": "MmRY8k4MDdLW",
        "colab_type": "code",
        "colab": {}
      },
      "source": [
        "arquivo3 = open(\"arquivodetexto.txt\", \"r\")\n",
        "print(arquivo3.read())\n",
        "arquivo3.close()"
      ],
      "execution_count": 0,
      "outputs": []
    },
    {
      "cell_type": "markdown",
      "metadata": {
        "id": "uj5VXqTa3DU3",
        "colab_type": "text"
      },
      "source": [
        "# **>>> Usando o with**\n",
        "\n",
        "---\n",
        "\n"
      ]
    },
    {
      "cell_type": "code",
      "metadata": {
        "id": "VV7XD7qI2uyX",
        "colab_type": "code",
        "colab": {}
      },
      "source": [
        "with open(\"teste.txt\",\"w\") as arq:\n",
        "\tarq.write(\"Apenas testando...\")"
      ],
      "execution_count": 0,
      "outputs": []
    },
    {
      "cell_type": "code",
      "metadata": {
        "id": "_kx_8BK16Bk7",
        "colab_type": "code",
        "colab": {}
      },
      "source": [
        "# com with não é necessário usar o close()\n",
        "with open(\"teste.txt\",\"r\") as arq2:\n",
        "\tprint(arq2.read())"
      ],
      "execution_count": 0,
      "outputs": []
    }
  ]
}