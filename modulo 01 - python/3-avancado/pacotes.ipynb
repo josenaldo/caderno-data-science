{
  "nbformat": 4,
  "nbformat_minor": 0,
  "metadata": {
    "colab": {
      "name": "Pacotes.ipynb",
      "provenance": [],
      "collapsed_sections": []
    },
    "kernelspec": {
      "name": "python3",
      "display_name": "Python 3"
    }
  },
  "cells": [
    {
      "cell_type": "markdown",
      "metadata": {
        "id": "baxGZ5L1Ed8T",
        "colab_type": "text"
      },
      "source": [
        "# **>>> Pacotes(libs)**\n",
        "\n",
        "---\n",
        "\n"
      ]
    },
    {
      "cell_type": "code",
      "metadata": {
        "id": "68VEADzyEayX",
        "colab_type": "code",
        "colab": {}
      },
      "source": [
        "# Antes de importar o módulo/pacote para seu código, ele precisa estar instalado\n",
        "!pip install nltk\n",
        "\n",
        "# em seu terminal você deve usar \"pip install <nome do pacote>\" ou \"conda install <nome do pacote>\""
      ],
      "execution_count": 0,
      "outputs": []
    },
    {
      "cell_type": "code",
      "metadata": {
        "id": "myoEzz0YFFlV",
        "colab_type": "code",
        "colab": {}
      },
      "source": [
        "# Pacotes Built-in\n",
        "import random\n",
        "import os \n",
        "import math"
      ],
      "execution_count": 0,
      "outputs": []
    },
    {
      "cell_type": "code",
      "metadata": {
        "id": "fKx1x8-7FaNl",
        "colab_type": "code",
        "colab": {}
      },
      "source": [
        "# Listar os módulos de random\n",
        "dir(random)"
      ],
      "execution_count": 0,
      "outputs": []
    },
    {
      "cell_type": "code",
      "metadata": {
        "id": "Gxva0g_qFlkD",
        "colab_type": "code",
        "colab": {}
      },
      "source": [
        "# Testar um de seus módulos\n",
        "print(random.choices([\"Windows\",\"Linux\",\"MacOS\"]))"
      ],
      "execution_count": 0,
      "outputs": []
    },
    {
      "cell_type": "code",
      "metadata": {
        "id": "m_oK91AcGE2v",
        "colab_type": "code",
        "colab": {}
      },
      "source": [
        "# Listar os módulos de os\n",
        "dir(os)"
      ],
      "execution_count": 0,
      "outputs": []
    },
    {
      "cell_type": "code",
      "metadata": {
        "id": "RrvpstplGM71",
        "colab_type": "code",
        "colab": {}
      },
      "source": [
        "# Testando um de seus módulos\n",
        "os.getcwd()"
      ],
      "execution_count": 0,
      "outputs": []
    },
    {
      "cell_type": "code",
      "metadata": {
        "id": "ZcD699V5GULn",
        "colab_type": "code",
        "colab": {}
      },
      "source": [
        "# Listar os módulos de math\n",
        "dir(math)"
      ],
      "execution_count": 0,
      "outputs": []
    },
    {
      "cell_type": "code",
      "metadata": {
        "id": "kimd_K03GZZV",
        "colab_type": "code",
        "colab": {}
      },
      "source": [
        "print(math.pi)"
      ],
      "execution_count": 0,
      "outputs": []
    }
  ]
}