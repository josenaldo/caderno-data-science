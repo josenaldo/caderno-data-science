{
  "nbformat": 4,
  "nbformat_minor": 0,
  "metadata": {
    "colab": {
      "name": "POO(extras).ipynb",
      "provenance": [],
      "collapsed_sections": [
        "JxVgcRze7Y3f"
      ]
    },
    "kernelspec": {
      "name": "python3",
      "display_name": "Python 3"
    }
  },
  "cells": [
    {
      "cell_type": "markdown",
      "metadata": {
        "id": "LKHZacgn1rnQ",
        "colab_type": "text"
      },
      "source": [
        "# **>>> POO(Extras)**\n",
        "\n",
        "---\n",
        "\n",
        "Habitue-se a usar estas ferramentas, tornando assim seu código mais conciso."
      ]
    },
    {
      "cell_type": "markdown",
      "metadata": {
        "id": "yCcQFv992UoR",
        "colab_type": "text"
      },
      "source": [
        "## >>> Funções Orientadas a Expressões"
      ]
    },
    {
      "cell_type": "markdown",
      "metadata": {
        "id": "0czpzN-Z2dL9",
        "colab_type": "text"
      },
      "source": [
        "### **LAMBDA**\n",
        "\n",
        "---\n",
        "\n",
        "função anônima e sem o \"def\";"
      ]
    },
    {
      "cell_type": "code",
      "metadata": {
        "id": "7Hb6HtKR1paI",
        "colab_type": "code",
        "colab": {}
      },
      "source": [
        "raiz = lambda x: x**2\n",
        "print(raiz(2))"
      ],
      "execution_count": 0,
      "outputs": []
    },
    {
      "cell_type": "markdown",
      "metadata": {
        "id": "dGzG27Hl29bs",
        "colab_type": "text"
      },
      "source": [
        "### **map(função, sequência)**\n",
        "\n",
        "---\n",
        "\n",
        "função inline que mapeia e aplica a todos elementos;"
      ]
    },
    {
      "cell_type": "code",
      "metadata": {
        "id": "MuuYqHj73N6G",
        "colab_type": "code",
        "colab": {}
      },
      "source": [
        "lista = [1,2,3,4,5,6,7,8,9,10]\n",
        "print(map(lambda x: x**2, lista))"
      ],
      "execution_count": 0,
      "outputs": []
    },
    {
      "cell_type": "code",
      "metadata": {
        "id": "w1U-Vjfv3cxB",
        "colab_type": "code",
        "colab": {}
      },
      "source": [
        "# Para acessar os valores do objeto e não o objeto, declare como lista\n",
        "print(list(map(lambda x: x**2, lista)))"
      ],
      "execution_count": 0,
      "outputs": []
    },
    {
      "cell_type": "code",
      "metadata": {
        "id": "b8JpqQyr4l72",
        "colab_type": "code",
        "colab": {}
      },
      "source": [
        "help(map)"
      ],
      "execution_count": 0,
      "outputs": []
    },
    {
      "cell_type": "markdown",
      "metadata": {
        "id": "n5b2ykL13tjs",
        "colab_type": "text"
      },
      "source": [
        "### **reduce(função, sequência)**\n",
        "\n",
        "---\n",
        "\n",
        "função inline que reduz a sequência a um único valor"
      ]
    },
    {
      "cell_type": "code",
      "metadata": {
        "id": "f_JoHejl30LC",
        "colab_type": "code",
        "colab": {}
      },
      "source": [
        "from functools import reduce\n",
        "print(reduce((lambda x, y: x*y), [1,2,3,4]))"
      ],
      "execution_count": 0,
      "outputs": []
    },
    {
      "cell_type": "code",
      "metadata": {
        "id": "GTuJ1e4F4dwd",
        "colab_type": "code",
        "colab": {}
      },
      "source": [
        "help(reduce)"
      ],
      "execution_count": 0,
      "outputs": []
    },
    {
      "cell_type": "markdown",
      "metadata": {
        "id": "IlUMukSz45nj",
        "colab_type": "text"
      },
      "source": [
        "### **filter(função, sequência)**\n",
        "\n",
        "---\n",
        "\n",
        "função inline que filtra os elementos da sequência que retornam True"
      ]
    },
    {
      "cell_type": "code",
      "metadata": {
        "id": "E2Aso6Fi45GW",
        "colab_type": "code",
        "colab": {}
      },
      "source": [
        "lista = [-1,-2,-3,0,1,2,3]\n",
        "print(list(filter(lambda x: x<0,lista)))"
      ],
      "execution_count": 0,
      "outputs": []
    },
    {
      "cell_type": "markdown",
      "metadata": {
        "id": "-S6bupfZ5gO2",
        "colab_type": "text"
      },
      "source": [
        "### **List Comprehension**\n",
        "\n",
        "---\n",
        "\n",
        "Desenvolve loops dentro de uma sequência e possui desempenho superior ao \"For\"."
      ]
    },
    {
      "cell_type": "code",
      "metadata": {
        "id": "v33eOOIc5yUf",
        "colab_type": "code",
        "colab": {}
      },
      "source": [
        "print(list(x for x in range(30) if x % 3 == 0))"
      ],
      "execution_count": 0,
      "outputs": []
    },
    {
      "cell_type": "markdown",
      "metadata": {
        "id": "3eKqsaEH5jsk",
        "colab_type": "text"
      },
      "source": [
        "### **Zip**\n",
        "\n",
        "---\n",
        "\n",
        "função inline que zipa 2 sequências retornando uma com o número de elementos da menor"
      ]
    },
    {
      "cell_type": "code",
      "metadata": {
        "id": "Fq0SM5GO5zfT",
        "colab_type": "code",
        "colab": {}
      },
      "source": [
        "# as sequências devem conter o mesmo número de elementos\n",
        "s1 = [1,2,3]\n",
        "s2 = [\"um\", \"dois\", \"três\"]\n",
        "print(list(zip(s1,s2)))"
      ],
      "execution_count": 0,
      "outputs": []
    },
    {
      "cell_type": "markdown",
      "metadata": {
        "id": "BjjkSCWJ6LEF",
        "colab_type": "text"
      },
      "source": [
        "### **Enumerate**\n",
        "\n",
        "---\n",
        "\n",
        "Numera valores com o índice de cada valor"
      ]
    },
    {
      "cell_type": "code",
      "metadata": {
        "id": "sool_awQ6SuJ",
        "colab_type": "code",
        "colab": {}
      },
      "source": [
        "a1 = \"Alô, Mundo\"\n",
        "print(list(enumerate(a1)))"
      ],
      "execution_count": 0,
      "outputs": []
    }
  ]
}