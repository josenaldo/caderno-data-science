{
  "cells": [
    {
      "cell_type": "markdown",
      "metadata": {},
      "source": [
        "Fase 1\n",
        "\n",
        "Nesta fase, utilize print(), input() e operadores aritméticos apenas."
      ]
    },
    {
      "cell_type": "markdown",
      "metadata": {
        "colab_type": "text",
        "id": "CYNAmoj4zSXl"
      },
      "source": [
        "1.1 Crie um algoritmo em Python que mostre a mensagem \"Alo mundo\" na tela."
      ]
    },
    {
      "cell_type": "code",
      "metadata": {
        "id": "ViAfpy3GzPN-",
        "colab_type": "code",
        "colab": {}
      },
      "source": [
        "print(\"Alô mundo\")"
      ],
      "execution_count": 2,
      "outputs": [
        {
          "output_type": "stream",
          "name": "stdout",
          "text": "Alô mundo\n"
        }
      ]
    },
    {
      "cell_type": "markdown",
      "metadata": {
        "colab_type": "text",
        "id": "gdMis92izSmQ"
      },
      "source": [
        "1.2 Crie um algoritmo em Python que peça dois números e imprima a soma."
      ]
    },
    {
      "cell_type": "code",
      "metadata": {
        "id": "BFpWkdCBz_zh",
        "colab_type": "code",
        "colab": {}
      },
      "source": [
        "num1 = int(input(\"Informe um número: \"))\n",
        "num2 = int(input(\"Informe outro número: \"))\n",
        "\n",
        "soma = num1 + num2\n",
        "\n",
        "print(f\"A soma dos números {num1} e {num2} é {soma}\")"
      ],
      "execution_count": 4,
      "outputs": [
        {
          "output_type": "stream",
          "name": "stdout",
          "text": "A soma dos números 2 e 3 é 5\n"
        }
      ]
    },
    {
      "cell_type": "markdown",
      "metadata": {
        "id": "E_0l_Vx6zSo2",
        "colab_type": "text"
      },
      "source": [
        "1.3 Crie um algoritmo em Python que peça um número e então mostre a mensagem O número informado foi [número]."
      ]
    },
    {
      "cell_type": "code",
      "metadata": {
        "id": "KwJf7XZS0AZW",
        "colab_type": "code",
        "colab": {}
      },
      "source": [
        "num1 = int(input(\"Informe um número: \"))\n",
        "\n",
        "print(\"O número informado foi %d\" % (num1))"
      ],
      "execution_count": 5,
      "outputs": [
        {
          "output_type": "stream",
          "name": "stdout",
          "text": "O número informado foi 3\n"
        }
      ]
    },
    {
      "cell_type": "markdown",
      "metadata": {
        "id": "1i4VCiiczSrL",
        "colab_type": "text"
      },
      "source": [
        "1.4 Crie um algoritmo em Python que converta metros para centímetros."
      ]
    },
    {
      "cell_type": "code",
      "metadata": {
        "id": "yoW67hjA0BHy",
        "colab_type": "code",
        "colab": {}
      },
      "source": [
        "em_metro = float(input(\"Informe o tamanho, em metros: \"))\n",
        "em_centimetros = em_metro * 100\n",
        "\n",
        "print(f\"{em_metro:.2f}m equivale a {em_centimetros:.0f}cm\")"
      ],
      "execution_count": 10,
      "outputs": [
        {
          "output_type": "stream",
          "name": "stdout",
          "text": "1.50m equivale a 150cm\n"
        }
      ]
    },
    {
      "cell_type": "markdown",
      "metadata": {
        "id": "4ep7kezvzStO",
        "colab_type": "text"
      },
      "source": [
        "1.5 Crie um algoritmo em Python que peça as 4 notas bimestrais e mostre a média."
      ]
    },
    {
      "cell_type": "code",
      "metadata": {
        "id": "6K6IHWdr0Blt",
        "colab_type": "code",
        "colab": {}
      },
      "source": [
        "nota1 = float(input(\"Insira a nota 1: \"))\n",
        "nota2 = float(input(\"Insira a nota 2: \"))\n",
        "nota3 = float(input(\"Insira a nota 3: \"))\n",
        "nota4 = float(input(\"Insira a nota 4: \"))\n",
        "\n",
        "media = (nota1 + nota2 + nota3 + nota4) / 4\n",
        "\n",
        "print(f\"A média das notas é: {media:.2f}\")"
      ],
      "execution_count": 11,
      "outputs": [
        {
          "output_type": "stream",
          "name": "stdout",
          "text": "A média das notas é: 5.00\n"
        }
      ]
    },
    {
      "cell_type": "markdown",
      "metadata": {
        "id": "u6__NaXqzeYg",
        "colab_type": "text"
      },
      "source": [
        "1.6 Crie um algoritmo em Python que peça o raio de um círculo, calcule e mostre sua área."
      ]
    },
    {
      "cell_type": "code",
      "metadata": {
        "id": "mm2L7g3x0Cfx",
        "colab_type": "code",
        "colab": {}
      },
      "source": [
        "#TODO Retirar a biblioteca math e usar apenas operadores\n",
        "import math\n",
        "\n",
        "raio = float(input(\"Informe o raio do círculo: \"))\n",
        "area = math.pi * math.pow(raio, 2)\n",
        "\n",
        "print(f\"A área do círculo é {area:.2f}\")\n"
      ],
      "execution_count": 13,
      "outputs": [
        {
          "output_type": "stream",
          "name": "stdout",
          "text": "A área do círculo é 28.27\n"
        }
      ]
    },
    {
      "cell_type": "markdown",
      "metadata": {
        "id": "lIlfG-ATzgOr",
        "colab_type": "text"
      },
      "source": [
        "1.7 Crie um algoritmo em Python que calcule a área de um quadrado, em seguida mostre o dobro desta área para o usuário."
      ]
    },
    {
      "cell_type": "code",
      "metadata": {
        "id": "-y4pB6br0DD_",
        "colab_type": "code",
        "colab": {}
      },
      "source": [
        "#TODO Informar ao usuário que o dobro da área\n",
        "lado = float(input(\"Informe o comprimento do lado do quadrado: \"))\n",
        "\n",
        "area = lado ** 2\n",
        "\n",
        "print(f\"Área = {area * 2:.2f} cm\" + u\"\\u00B2\")"
      ],
      "execution_count": 34,
      "outputs": [
        {
          "output_type": "stream",
          "name": "stdout",
          "text": "Área = 4050.00 cm²\n"
        }
      ]
    },
    {
      "cell_type": "markdown",
      "metadata": {
        "id": "Vj4OXsJQziu_",
        "colab_type": "text"
      },
      "source": [
        "1.8 Crie um algoritmo em Python que pergunte quanto você ganha por hora e o número de horas trabalhadas no mês. Calcule e mostre o total do seu salário no referido mês.\n"
      ]
    },
    {
      "cell_type": "code",
      "metadata": {
        "id": "RmApGpg30D00",
        "colab_type": "code",
        "colab": {}
      },
      "source": [
        "valor_hora = float(input(\"Quanto você ganha por hora? \"))\n",
        "horas_trabalhadas = float(input(\"Quantas horas você trabalhou nesse mês? \"))\n",
        "\n",
        "salario = valor_hora * horas_trabalhadas\n",
        "\n",
        "print(f\"Esse mês, seu salário é: R${salario: .2f}\")"
      ],
      "execution_count": 24,
      "outputs": [
        {
          "output_type": "stream",
          "name": "stdout",
          "text": "Esse mês, seu salário é: R$ 1156.00\n"
        }
      ]
    },
    {
      "cell_type": "markdown",
      "metadata": {
        "id": "e7id8Ewgzlow",
        "colab_type": "text"
      },
      "source": [
        "1.9 Crie um algoritmo em Python que peça a temperatura em graus Farenheit, transforme e mostre a temperatura em graus Celsius.\n",
        "C = (5 * (F-32) / 9)."
      ]
    },
    {
      "cell_type": "code",
      "metadata": {
        "id": "Kl0ainsv0Eif",
        "colab_type": "code",
        "colab": {}
      },
      "source": [
        "temperatura_farenheit = float(input(\"Informe a temperatura, em Farenheit: \"))\n",
        "temperatura_celcius = 5 * (temperatura_farenheit - 32) / 9\n",
        "degree = u\"\\u00B0\"\n",
        "print(f\"A temperatura {temperatura_farenheit:.2f}{degree}F equivale a {temperatura_celcius:.2f}{degree}C\")"
      ],
      "execution_count": 28,
      "outputs": [
        {
          "output_type": "stream",
          "name": "stdout",
          "text": "A temperatura 50.00°F equivale a 10.00°C\n"
        }
      ]
    },
    {
      "cell_type": "markdown",
      "metadata": {
        "id": "mFCgXRPaznno",
        "colab_type": "text"
      },
      "source": [
        "1.10 Crie um algoritmo em Python que peça a temperatura em graus Celsius, transforme e mostre em graus Farenheit."
      ]
    },
    {
      "cell_type": "code",
      "metadata": {
        "id": "xEAAHRi00FS8",
        "colab_type": "code",
        "colab": {}
      },
      "source": [
        "temperatura_celcius = float(input(\"Informe a temperatura, em Celcius: \"))\n",
        "\n",
        "temperatura_farenheit = ((9 * temperatura_celcius) / 5) + 32\n",
        "degree = u\"\\u00B0\"\n",
        "\n",
        "print(f\"A temperatura {temperatura_celcius:.2f}{degree}C equivale a {temperatura_farenheit:.2f}{degree}F\")"
      ],
      "execution_count": 36,
      "outputs": [
        {
          "output_type": "stream",
          "name": "stdout",
          "text": "A temperatura 85.00°C equivale a 185.00°F\n"
        }
      ]
    },
    {
      "cell_type": "markdown",
      "metadata": {
        "id": "j3fdhu-8zqu9",
        "colab_type": "text"
      },
      "source": [
        "10.11 Crie um algoritmo em Python que peça 2 números inteiros e um número real. Calcule e mostre:\n",
        "* a soma do dobro do primeiro com metade do segundo .\n",
        "* a soma do triplo do primeiro com o terceiro.\n",
        "* o terceiro elevado ao cubo."
      ]
    },
    {
      "cell_type": "code",
      "metadata": {
        "id": "ZEqZrKjt0F5B",
        "colab_type": "code",
        "colab": {}
      },
      "source": [
        "primeiro = int(input(\"Informe o primeiro: \"))\n",
        "segundo = int(input(\"Informe o segundo: \"))\n",
        "terceiro = float(input(\"Informe o terceiro: \"))\n",
        "\n",
        "quarto = (primeiro * 2) + (segundo / 2)\n",
        "quinto = (primeiro * 3) + terceiro\n",
        "sexto = terceiro ** 3\n",
        "\n",
        "print(f\"primeiro: {primeiro}\")\n",
        "print(f\"segundo: {segundo}\")\n",
        "print(f\"terceiro: {terceiro:.0f}\")\n",
        "print(f\"quarto: {quarto:.0f}\")\n",
        "print(f\"quinto: {quinto:.0f}\")\n",
        "print(f\"sexto: {sexto:.0f}\")"
      ],
      "execution_count": 38,
      "outputs": [
        {
          "output_type": "stream",
          "name": "stdout",
          "text": "primeiro: 1\nsegundo: 2\nterceiro: 3\nquarto: 3\nquinto: 6\nsexto: 27\n"
        }
      ]
    }
  ],
  "metadata": {
    "colab": {
      "name": "Fase1.ipynb",
      "provenance": []
    },
    "kernelspec": {
      "name": "python3",
      "display_name": "Python 3"
    }
  },
  "nbformat": 4,
  "nbformat_minor": 0
}