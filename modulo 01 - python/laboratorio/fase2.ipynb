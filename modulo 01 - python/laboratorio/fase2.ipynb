{
  "cells": [
    {
      "cell_type": "markdown",
      "metadata": {
        "id": "CYNAmoj4zSXl",
        "colab_type": "text"
      },
      "source": [
        "2.1 Crie um algoritmo em Python que peça 2 números e imprima o maior deles."
      ]
    },
    {
      "cell_type": "code",
      "metadata": {
        "id": "ViAfpy3GzPN-",
        "colab_type": "code",
        "colab": {}
      },
      "source": [
        "num1 = int(input(\"Insira um número: \"))\n",
        "num2 = int(input(\"Insira outro número: \"))\n",
        "\n",
        "if(num1 > num2):\n",
        "    maior = num1\n",
        "else:\n",
        "    maior = num2\n",
        "\n",
        "print(f\"O maior número informado é {maior}\")"
      ],
      "execution_count": 3,
      "outputs": [
        {
          "output_type": "stream",
          "name": "stdout",
          "text": "O maior número informado é 5\n"
        }
      ]
    },
    {
      "cell_type": "markdown",
      "metadata": {
        "id": "gdMis92izSmQ",
        "colab_type": "text"
      },
      "source": [
        "2.2 Crie um algoritmo em Python que peça um valor e mostre na tela se o valor é positivo ou negativo."
      ]
    },
    {
      "cell_type": "code",
      "metadata": {
        "id": "BFpWkdCBz_zh",
        "colab_type": "code",
        "colab": {}
      },
      "source": [
        "numero = int(input(\"Informe um número: \"))\n",
        "\n",
        "if(numero < 0):\n",
        "    print(\"O número informado é negativo\")\n",
        "else:\n",
        "    print(\"O número informado é positivo\")"
      ],
      "execution_count": 7,
      "outputs": [
        {
          "output_type": "stream",
          "name": "stdout",
          "text": "O número informado é negativo\n"
        }
      ]
    },
    {
      "cell_type": "markdown",
      "metadata": {
        "id": "E_0l_Vx6zSo2",
        "colab_type": "text"
      },
      "source": [
        "2.3 Crie um algoritmo em Python que verifique se uma letra digitada é vogal ou consoante."
      ]
    },
    {
      "cell_type": "code",
      "metadata": {
        "id": "KwJf7XZS0AZW",
        "colab_type": "code",
        "colab": {}
      },
      "source": [
        "entrada = input(\"Informe uma letra\")\n",
        "\n",
        "vogais = ['a', 'e', 'i', 'o', 'u']\n",
        "if(entrada.isalpha()):\n",
        "    if(entrada.lower() in vogais):\n",
        "        print(\"O caracter é uma vogal\")\n",
        "    else:\n",
        "        print(\"O caracter é uma consoante\")    \n",
        "else:\n",
        "    print(\"O caracter informado não é uma letra\")"
      ],
      "execution_count": 22,
      "outputs": [
        {
          "output_type": "stream",
          "name": "stdout",
          "text": "O caracter é uma consoante\n"
        }
      ]
    },
    {
      "cell_type": "markdown",
      "metadata": {
        "id": "1i4VCiiczSrL",
        "colab_type": "text"
      },
      "source": [
        "2.4 Faça um programa para a leitura de duas notas parciais de um aluno. O programa deve calcular a média alcançada por aluno e apresentar:\n",
        "* \"Aprovado\", se a média alcançada for maior ou igual a sete;\n",
        "* \"Reprovado\", se a média for menor do que sete;\n",
        "* \"Aprovado com Distinção\", se a média for igual a 10."
      ]
    },
    {
      "cell_type": "code",
      "metadata": {
        "id": "yoW67hjA0BHy",
        "colab_type": "code",
        "colab": {}
      },
      "source": [
        "nota1 = float(input(\"Insira a primeira nota: \"))\n",
        "nota2 = float(input(\"Insira a segunda nota: \"))\n",
        "\n",
        "media = (nota1 + nota2) / 2\n",
        "\n",
        "if(media == 10):\n",
        "    print(\"Aprovado com Distinção\")\n",
        "elif(media >= 7):\n",
        "    print(\" Aprovado\")\n",
        "else:\n",
        "    print(\"Reprovado\")"
      ],
      "execution_count": 27,
      "outputs": [
        {
          "output_type": "stream",
          "name": "stdout",
          "text": "Aprovado\n"
        }
      ]
    },
    {
      "cell_type": "markdown",
      "metadata": {
        "id": "4ep7kezvzStO",
        "colab_type": "text"
      },
      "source": [
        "2.5 Crie um algoritmo em Python que leia três números e mostre o maior deles."
      ]
    },
    {
      "cell_type": "code",
      "metadata": {
        "id": "6K6IHWdr0Blt",
        "colab_type": "code",
        "colab": {}
      },
      "source": [
        "num1 = int(input(\"Informe o primeiro número\"))\n",
        "num2 = int(input(\"Informe o segundo número\"))\n",
        "num3 = int(input(\"Informe o terceiro número\"))\n",
        "\n",
        "numeros=[num1, num2, num3]\n",
        "\n",
        "maior = max(numeros)\n",
        "\n",
        "print(f\"O maior é {maior}\")"
      ],
      "execution_count": 29,
      "outputs": [
        {
          "output_type": "stream",
          "name": "stdout",
          "text": "O maior é 455\n"
        }
      ]
    },
    {
      "cell_type": "markdown",
      "metadata": {
        "id": "u6__NaXqzeYg",
        "colab_type": "text"
      },
      "source": [
        "2.6 Crie um algoritmo em Python que leia três números e mostre o maior e o menor deles."
      ]
    },
    {
      "cell_type": "code",
      "metadata": {
        "id": "mm2L7g3x0Cfx",
        "colab_type": "code",
        "colab": {}
      },
      "source": [
        "num1 = int(input(\"Informe o primeiro número\"))\n",
        "num2 = int(input(\"Informe o segundo número\"))\n",
        "num3 = int(input(\"Informe o terceiro número\"))\n",
        "\n",
        "numeros=[num1, num2, num3]\n",
        "\n",
        "maior = max(numeros)\n",
        "menor = min(numeros)\n",
        "\n",
        "print(f\"O maior é {maior}\")\n",
        "print(f\"O menor é {menor}\")"
      ],
      "execution_count": 30,
      "outputs": [
        {
          "output_type": "stream",
          "name": "stdout",
          "text": "O maior é 6\nO menor é 4\n"
        }
      ]
    },
    {
      "cell_type": "markdown",
      "metadata": {
        "id": "lIlfG-ATzgOr",
        "colab_type": "text"
      },
      "source": [
        "2.7 Faça um programa que pergunte o preço de 5 produtos e informe qual produto você deve comprar, sabendo que a decisão é sempre pelo mais barato."
      ]
    },
    {
      "cell_type": "code",
      "metadata": {
        "id": "-y4pB6br0DD_",
        "colab_type": "code",
        "colab": {}
      },
      "source": [
        "def get_preco(produto):\n",
        "    return produtos[produto]\n",
        "\n",
        "produtos = {\n",
        "    'banana': 0,\n",
        "    'maçã': 0,\n",
        "    'pera': 0,\n",
        "    'uva': 0,\n",
        "    'melancia': 0\n",
        "} \n",
        "\n",
        "for key in produtos:\n",
        "    preco = float(input(f\"Qual o preço da {key}\"))\n",
        "    produtos[key] = preco\n",
        "\n",
        "menor = min(produtos, key=get_preco)\n",
        "\n",
        "print(produtos)\n",
        "print(f\"Você deve comprar {menor}\")"
      ],
      "execution_count": 35,
      "outputs": [
        {
          "output_type": "stream",
          "name": "stdout",
          "text": "{'banana': 4.0, 'maçã': 5.0, 'pera': 6.0, 'uva': 4.0, 'melancia': 7.0}\nVocê deve comprar banana\n"
        }
      ]
    },
    {
      "cell_type": "markdown",
      "metadata": {
        "id": "Vj4OXsJQziu_",
        "colab_type": "text"
      },
      "source": [
        "2.8 Crie um algoritmo em Python que leia três números e mostre-os em ordem decrescente."
      ]
    },
    {
      "cell_type": "code",
      "metadata": {
        "id": "RmApGpg30D00",
        "colab_type": "code",
        "colab": {}
      },
      "source": [
        "numeros = []\n",
        "\n",
        "for x in range(3):\n",
        "    num = int(input(\"Informe um número: \"))\n",
        "    numeros.append(num)\n",
        "\n",
        "numeros_ordenados = sorted(numeros, reverse = True)\n",
        "\n",
        "print(numeros)\n",
        "print(numeros_ordenados)"
      ],
      "execution_count": 41,
      "outputs": [
        {
          "output_type": "stream",
          "name": "stdout",
          "text": "[2, 5, 8]\n[8, 5, 2]\n"
        }
      ]
    },
    {
      "cell_type": "markdown",
      "metadata": {
        "id": "e7id8Ewgzlow",
        "colab_type": "text"
      },
      "source": [
        "2.9 As Organizações Mendéz resolveram dar um aumento de salário aos seus colaboradores e lhe contraram para desenvolver o programa que calculará os reajustes em Python. Faça um programa que receba o salário de um colaborador e o reajuste segundo o seguinte critério, baseado no salário atual:\n",
        "\n",
        "* salários entre 680,00 e 800,00 : aumento de 15%<br>\n",
        "* salários entre 800,00 e 2500,00 : aumento de 10%<br>\n",
        "* salários de 2500,00 em diante : aumento de 5% após o aumento ser realizado.\n",
        "\n",
        "Informe na tela:\n",
        "* o salário antes do reajuste;\n",
        "* o percentual de aumento aplicado;\n",
        "* o valor do aumento;\n",
        "* o novo salário, após o aumento."
      ]
    },
    {
      "cell_type": "code",
      "metadata": {
        "id": "Kl0ainsv0Eif",
        "colab_type": "code",
        "colab": {}
      },
      "source": [
        "\n",
        "while(True):\n",
        "    salario_atual = float(input(\"Informe o salário do funcionário (digite 0 para sair): \"))\n",
        "    if(salario_atual == 0):\n",
        "        break\n",
        "    if(salario_atual < 680): \n",
        "        print(\"Salário inválido. Informe um valor maior ou igual a R$ 680.\")\n",
        "        continue\n",
        "    elif(salario_atual >= 680 and salario_atual < 800):\n",
        "        percentual_de_aumento = 0.15\n",
        "    elif(salario_atual >= 800 and salario_atual < 2500):\n",
        "        percentual_de_aumento = 0.10\n",
        "    else:\n",
        "        percentual_de_aumento = 0.05\n",
        "\n",
        "    aumento = salario_atual * percentual_de_aumento\n",
        "    novo_salario = salario_atual + aumento\n",
        "\n",
        "    print(f\"Salário antes do reajuste: R$ {salario_atual:.2f}\")\n",
        "    print(f\"Percentual de aumento: {(percentual_de_aumento * 100):.2f}%\")\n",
        "    print(f\"Valor do aumento: R$ {aumento:.2f}\")\n",
        "    print(f\"Novo salário: R$ {novo_salario:.2f}\")\n",
        "    print(\"-\"*40)"
      ],
      "execution_count": 47,
      "outputs": [
        {
          "output_type": "stream",
          "name": "stdout",
          "text": "Salário antes do reajuste: R$ 700.00\nPercentual de aumento: 15.00%\nValor do aumento: R$ 105.00\nNovo salário: R$ 805.00\n----------------------------------------\nSalário antes do reajuste: R$ 1000.00\nPercentual de aumento: 10.00%\nValor do aumento: R$ 100.00\nNovo salário: R$ 1100.00\n----------------------------------------\nSalário antes do reajuste: R$ 3000.00\nPercentual de aumento: 5.00%\nValor do aumento: R$ 150.00\nNovo salário: R$ 3150.00\n----------------------------------------\nSalário inválido. Informe um valor maior ou igual a R$ 680.\n"
        }
      ]
    },
    {
      "cell_type": "code",
      "execution_count": null,
      "metadata": {},
      "outputs": [],
      "source": [
        "{}"
      ]
    }
  ],
  "metadata": {
    "colab": {
      "name": "Fase2.ipynb",
      "provenance": []
    },
    "kernelspec": {
      "name": "python3",
      "display_name": "Python 3"
    }
  },
  "nbformat": 4,
  "nbformat_minor": 0
}