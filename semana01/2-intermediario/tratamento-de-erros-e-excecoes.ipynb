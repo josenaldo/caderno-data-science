{
  "cells": [
    {
      "cell_type": "markdown",
      "metadata": {
        "id": "6hBUcAjdRilf",
        "colab_type": "text"
      },
      "source": [
        "# **>>> Tratando Erros e Exceções**\n",
        "\n",
        "---\n",
        "\n",
        "Erros vão acontecer e é importante que você os preveja e trate-os antes de sua aparição.\n",
        "\n",
        "---\n",
        "\n",
        "### **>>> Erros Comuns**\n",
        "IOError: Se o arquivo não puder ser aberto/salvo.\n",
        "<br>ImportError: Se o python não encontra o módulo\n",
        "<br>ValueError: Operação recebe valor inadequado\n",
        "<br>KeyboardInterrupt: Quando usuário clica DELETE ou CTRL+C\n",
        "<br>EOFError: Quando o input não recebe nenhum dado\n",
        "<br>TypeError: Erro de tipo para operação"
      ]
    },
    {
      "cell_type": "code",
      "metadata": {
        "id": "Lz4nV2sET68N",
        "colab_type": "code",
        "colab": {}
      },
      "source": [
        "x = input(\"Digite um número:\")\n",
        "print(x/1)"
      ],
      "execution_count": 0,
      "outputs": []
    },
    {
      "cell_type": "markdown",
      "metadata": {
        "id": "VuFhiBwgRszZ",
        "colab_type": "text"
      },
      "source": [
        "## **>>> Try / Except**\n",
        "\n",
        "---\n",
        "\n"
      ]
    },
    {
      "cell_type": "code",
      "metadata": {
        "id": "By73U-jbRedn",
        "colab_type": "code",
        "colab": {}
      },
      "source": [
        "# Try = tentar\n",
        "# Except = Exceção\n",
        "\n",
        "try:\n",
        "  x = input(\"Digite um número:\")\n",
        "  print(x/1)\n",
        "except TypeError:\n",
        "  print(\"Erro de tipo!\")"
      ],
      "execution_count": 0,
      "outputs": []
    },
    {
      "cell_type": "code",
      "metadata": {
        "id": "_7huXffaUq8F",
        "colab_type": "code",
        "colab": {}
      },
      "source": [
        "while True:\n",
        "  try:\n",
        "    x = int(input(\"Digite um número inteiro: \"))\n",
        "    print(f\"Dividindo 100 por {x} teremos {int(100/x)}\")\n",
        "    break\n",
        "  except ValueError:\n",
        "    print(\"O valor digitado não é um inteiro. Tente novamente\")  "
      ],
      "execution_count": 0,
      "outputs": []
    },
    {
      "cell_type": "markdown",
      "metadata": {
        "id": "HI3dzYdiRy17",
        "colab_type": "text"
      },
      "source": [
        "## **>>> Else**\n",
        "\n",
        "---\n",
        "\n"
      ]
    },
    {
      "cell_type": "code",
      "metadata": {
        "id": "LMrrcdsOR5RN",
        "colab_type": "code",
        "colab": {}
      },
      "source": [
        "try:\n",
        "  x = int(input(\"Digite um número inteiro: \"))\n",
        "  print(f\"Dividindo 100 por {x} teremos {int(100/x)}\")\n",
        "except ValueError:\n",
        "  print(\"O valor digitado não é um inteiro. Tente novamente\")  \n",
        "else:\n",
        "  print(\"Executado com sucesso!\")"
      ],
      "execution_count": 0,
      "outputs": []
    },
    {
      "cell_type": "markdown",
      "metadata": {
        "id": "x0lyFTZeR1Yp",
        "colab_type": "text"
      },
      "source": [
        "## **>>> Finally**\n",
        "\n",
        "---\n",
        "\n"
      ]
    },
    {
      "cell_type": "code",
      "metadata": {
        "id": "KbqOPGnbR5tH",
        "colab_type": "code",
        "colab": {}
      },
      "source": [
        "while True:\n",
        "  try:\n",
        "    x = int(input(\"Digite um número inteiro: \"))\n",
        "    print(f\"Dividindo 100 por {x} teremos {int(100/x)}\")\n",
        "    break\n",
        "  except ValueError:\n",
        "    print(\"O valor digitado não é um inteiro. Tente novamente\")  \n",
        "  finally:\n",
        "    print(\"O finally executa o bloco havendo ou não exceções!\")"
      ],
      "execution_count": 0,
      "outputs": []
    },
    {
      "cell_type": "markdown",
      "metadata": {
        "id": "tue8ihhgZcx9",
        "colab_type": "text"
      },
      "source": [
        "## **>>> Resumindo...**\n",
        "\n",
        "---\n",
        "\n",
        "try: seu código;\n",
        "<br>except: tratamento dos erros;\n",
        "<br>else: tratamento com senão;\n",
        "<br>finally: executa com ou sem exceções;"
      ]
    },
    {
      "cell_type": "markdown",
      "metadata": {
        "id": "pRLgMgb8R9c5",
        "colab_type": "text"
      },
      "source": [
        "# **>>> Exercícios**\n",
        "\n",
        "---\n",
        "\n"
      ]
    },
    {
      "cell_type": "markdown",
      "metadata": {
        "id": "XGWtwD3QIKc2",
        "colab_type": "text"
      },
      "source": [
        " **1.** Crie um código em Python que solicite do usuário o input de um número inteiro. Caso haja preenchimento diferente, a máquina deve  guiar o usuário até ajustar sua resposta. (Fácil)"
      ]
    },
    {
      "cell_type": "code",
      "metadata": {
        "id": "vzDDUZvrIPCf",
        "colab_type": "code",
        "colab": {}
      },
      "source": [
        "# Execício 1\n",
        "digitou_certo = False\n",
        "num = None\n",
        "\n",
        "while(not digitou_certo):\n",
        "    try:\n",
        "        num = int(input(\"Informe um número\"))\n",
        "        digitou_certo = True\n",
        "    except ValueError:\n",
        "        print(\"O valor digitado não é um inteiro. Tente novamente\")\n",
        "\n",
        "print(f\"Parabéns, você digitou um valor válido: {num}\")\n"
      ],
      "execution_count": 4,
      "outputs": [
        {
          "output_type": "stream",
          "name": "stdout",
          "text": "O valor digitado não é um inteiro. Tente novamente\nO valor digitado não é um inteiro. Tente novamente\nO valor digitado não é um inteiro. Tente novamente\nO valor digitado não é um inteiro. Tente novamente\nO valor digitado não é um inteiro. Tente novamente\nParabéns, você digitou um valor válido: 3\n"
        }
      ]
    },
    {
      "cell_type": "markdown",
      "metadata": {
        "id": "JvrLbNiOIPb5",
        "colab_type": "text"
      },
      "source": [
        "**2.** Crie um código em Python que solicite do usuário o input de 2 números inteiros e assim divida o primeiro número pelo segundo. Caso o input não seja um número inteiro, seu código deve guiar o usuário até o preenchimento correto. Caso o usuário preencha com 0,  que apresente mensagem falando sobre a indivisibilidade por zero. Caso o usuário não digite um número, informar que um número deve ser digitado. Em outros casos de erro, apresente ao usuário uma mensagem de erro inesperado.(Médio)"
      ]
    },
    {
      "cell_type": "code",
      "metadata": {
        "id": "9YdH3SMNITYf",
        "colab_type": "code",
        "colab": {}
      },
      "source": [
        "# Exercício 2\n",
        "digitou_certo = False\n",
        "dividiu_certo = False\n",
        "rResultado = None\n",
        "num1 = None\n",
        "num2 = None\n",
        "\n",
        "while(not digitou_certo or not dividiu_certo):\n",
        "    try:\n",
        "        num1 = int(input(\"Informe um número\"))\n",
        "        num2 = int(input(\"Informe um número\"))\n",
        "\n",
        "        digitou_certo = True \n",
        "\n",
        "        resultado = num1 / num2\n",
        "        \n",
        "        dividiu_certo = True        \n",
        "    except ValueError:\n",
        "        digitou_certo = False\n",
        "        print(\"Um dos valores digitados não é um inteiro. Tente novamente\")\n",
        "    except ZeroDivisionError:\n",
        "        dividiu_certo = False\n",
        "        print(\"O segundo valor informado não pode ser 0, pois é impossível dividir por 0.\")\n",
        "    except: \n",
        "        dividiu_certo = False\n",
        "        digitou_certo = False\n",
        "        print(\"Um erro desconhecido ocorreu.\")\n",
        "\n",
        "print(f\"Parabéns, você calculou a divisão corretamente: {resultado}\")"
      ],
      "execution_count": 11,
      "outputs": [
        {
          "output_type": "stream",
          "name": "stdout",
          "text": "O segundo valor informado não pode ser 0, pois é impossível dividir por 0.\nUm dos valores digitados não é um inteiro. Tente novamente\nUm dos valores digitados não é um inteiro. Tente novamente\nO segundo valor informado não pode ser 0, pois é impossível dividir por 0.\nParabéns, você calculou a divisão corretamente: 0.06666666666666667\n"
        }
      ]
    },
    {
      "cell_type": "markdown",
      "metadata": {
        "id": "jtw8QMYDIRaB",
        "colab_type": "text"
      },
      "source": [
        "**3.** Crie um código em Python que peça um número ímpar do usuário. Caso o número seja par, apresente mensagem guiando o usuário até o preenchimento correto(Difícil)"
      ]
    },
    {
      "cell_type": "code",
      "metadata": {
        "id": "vC_p3cQbITOF",
        "colab_type": "code",
        "colab": {}
      },
      "source": [
        "# Exercício 03\n",
        "continua = True\n",
        "\n",
        "while(continua):\n",
        "    try:\n",
        "        numero = int(input(\"Digita um número: \"))\n",
        "\n",
        "        if (numero % 2 == 0):\n",
        "            raise ValueError(f\"O valor informado ({numero}) é par. Deve ser informado um número ímpar.\")\n",
        "\n",
        "        print(f\"Parabéns! O número ({numero}) informado é impar!\")\n",
        "        continua = False\n",
        "\n",
        "    except ValueError as error:\n",
        "        continua = True\n",
        "        print(error)\n",
        "\n"
      ],
      "execution_count": 0,
      "outputs": []
    },
    {
      "cell_type": "markdown",
      "metadata": {
        "id": "Se618gaqIWP5",
        "colab_type": "text"
      },
      "source": [
        "# **Solução**"
      ]
    },
    {
      "cell_type": "code",
      "metadata": {
        "id": "lQ5ynDl8IatH",
        "colab_type": "code",
        "colab": {}
      },
      "source": [
        "# Exercício 1\n",
        "while True:\n",
        "  try:\n",
        "    x = int(input(\"Digite um número inteiro: \"))\n",
        "    print(f\"Dividindo 100 por {x} teremos {int(100/x)}\")\n",
        "    break\n",
        "  except ValueError:\n",
        "    print(\"O valor digitado não é um inteiro. Tente novamente\")"
      ],
      "execution_count": 0,
      "outputs": []
    },
    {
      "cell_type": "code",
      "metadata": {
        "id": "oKK_wWGyIa3J",
        "colab_type": "code",
        "colab": {}
      },
      "source": [
        "# Exercício 2\n",
        "while True:\n",
        "  try:\n",
        "      x = int( input( \"Digite 1 número: \" ) )\n",
        "      y = int( input( \"Digite outro número: \" ) )\n",
        "      print( x, '/', y, '=', x/y )\n",
        "      break\n",
        "  except ZeroDivisionError:\n",
        "      print( \"Indivisível por 0!\" )\n",
        "  except ValueError:\n",
        "      print( \"Isto nem parece ser um número!\" )\n",
        "  except:\n",
        "      print( \"Algo inesperado ocorreu! Tente novamente\" )"
      ],
      "execution_count": 0,
      "outputs": []
    },
    {
      "cell_type": "code",
      "metadata": {
        "id": "PcGk09z-Ia_n",
        "colab_type": "code",
        "colab": {}
      },
      "source": [
        "# Exercício 3\n",
        "while True:\n",
        "  try:\n",
        "    x = int(input(\"Digite um número ímpar: \"))\n",
        "    print(x%3)\n",
        "  except:\n",
        "    if x%2 == 0:\n",
        "      print(\"Este número é par. Preencha com um valor ímpar\")\n"
      ],
      "execution_count": 0,
      "outputs": []
    }
  ],
  "metadata": {
    "colab": {
      "name": "TratamentoDeErrosEExceções.ipynb",
      "provenance": [],
      "private_outputs": true,
      "collapsed_sections": []
    },
    "kernelspec": {
      "name": "python3",
      "display_name": "Python 3"
    },
    "accelerator": "GPU"
  },
  "nbformat": 4,
  "nbformat_minor": 0
}