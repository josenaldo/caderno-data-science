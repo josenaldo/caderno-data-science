{
  "cells": [
    {
      "cell_type": "markdown",
      "metadata": {
        "id": "6cLGqA4-QPVq",
        "colab_type": "text"
      },
      "source": [
        "# **Tuplas**\n",
        "\n",
        "---"
      ]
    },
    {
      "cell_type": "code",
      "metadata": {
        "id": "_wUSigmvQN2s",
        "colab_type": "code",
        "colab": {}
      },
      "source": [
        "# São como listas, entretanto imutáveis\n",
        "meses = (\"janeiro\",\"fevereiro\",\"março\")\n",
        "print(type(meses))"
      ],
      "execution_count": 1,
      "outputs": [
        {
          "output_type": "stream",
          "name": "stdout",
          "text": "<class 'tuple'>\n"
        }
      ]
    },
    {
      "cell_type": "code",
      "metadata": {
        "id": "VTZaI0F4RNAP",
        "colab_type": "code",
        "colab": {}
      },
      "source": [
        "# Imutáveis mesmo ?\n",
        "x = list(meses)\n",
        "print(type(x))"
      ],
      "execution_count": 0,
      "outputs": []
    },
    {
      "cell_type": "code",
      "metadata": {
        "id": "cgncY-YWRZ0W",
        "colab_type": "code",
        "colab": {}
      },
      "source": [
        "x.append(\"abril\")\n",
        "print(x)"
      ],
      "execution_count": 0,
      "outputs": []
    },
    {
      "cell_type": "code",
      "metadata": {
        "id": "4lD9O8vwRhst",
        "colab_type": "code",
        "colab": {}
      },
      "source": [
        "meses = tuple(x)\n",
        "print(meses)"
      ],
      "execution_count": 0,
      "outputs": []
    },
    {
      "cell_type": "code",
      "metadata": {
        "id": "Xx6gnAW5RnxH",
        "colab_type": "code",
        "colab": {}
      },
      "source": [
        "print(type(meses))"
      ],
      "execution_count": 0,
      "outputs": []
    },
    {
      "cell_type": "code",
      "metadata": {
        "id": "AwW_4lCzcC7q",
        "colab_type": "code",
        "colab": {}
      },
      "source": [
        "# Slicing com Tuplas\n",
        "print(meses[1:])"
      ],
      "execution_count": 0,
      "outputs": []
    },
    {
      "cell_type": "code",
      "metadata": {
        "id": "fZ6UGw-KcThO",
        "colab_type": "code",
        "colab": {}
      },
      "source": [
        "# len() em tuplas\n",
        "print(len(meses))"
      ],
      "execution_count": 0,
      "outputs": []
    },
    {
      "cell_type": "code",
      "metadata": {
        "id": "c66QqQERcO8Y",
        "colab_type": "code",
        "colab": {}
      },
      "source": [
        "# Atribuição em tuplas? não é possível\n",
        "meses[3] = \"abril\""
      ],
      "execution_count": 0,
      "outputs": []
    },
    {
      "cell_type": "code",
      "metadata": {
        "id": "pdifpt8hQ8SO",
        "colab_type": "code",
        "colab": {}
      },
      "source": [
        "dir(tuple)"
      ],
      "execution_count": 2,
      "outputs": [
        {
          "output_type": "execute_result",
          "data": {
            "text/plain": "['__add__',\n '__class__',\n '__contains__',\n '__delattr__',\n '__dir__',\n '__doc__',\n '__eq__',\n '__format__',\n '__ge__',\n '__getattribute__',\n '__getitem__',\n '__getnewargs__',\n '__gt__',\n '__hash__',\n '__init__',\n '__init_subclass__',\n '__iter__',\n '__le__',\n '__len__',\n '__lt__',\n '__mul__',\n '__ne__',\n '__new__',\n '__reduce__',\n '__reduce_ex__',\n '__repr__',\n '__rmul__',\n '__setattr__',\n '__sizeof__',\n '__str__',\n '__subclasshook__',\n 'count',\n 'index']"
          },
          "metadata": {},
          "execution_count": 2
        }
      ]
    },
    {
      "cell_type": "code",
      "metadata": {
        "id": "J_7OFzeYRC1C",
        "colab_type": "code",
        "colab": {}
      },
      "source": [
        "help(tuple)"
      ],
      "execution_count": 3,
      "outputs": [
        {
          "output_type": "stream",
          "name": "stdout",
          "text": "Help on class tuple in module builtins:\n\nclass tuple(object)\n |  tuple(iterable=(), /)\n |  \n |  Built-in immutable sequence.\n |  \n |  If no argument is given, the constructor returns an empty tuple.\n |  If iterable is specified the tuple is initialized from iterable's items.\n |  \n |  If the argument is a tuple, the return value is the same object.\n |  \n |  Methods defined here:\n |  \n |  __add__(self, value, /)\n |      Return self+value.\n |  \n |  __contains__(self, key, /)\n |      Return key in self.\n |  \n |  __eq__(self, value, /)\n |      Return self==value.\n |  \n |  __ge__(self, value, /)\n |      Return self>=value.\n |  \n |  __getattribute__(self, name, /)\n |      Return getattr(self, name).\n |  \n |  __getitem__(self, key, /)\n |      Return self[key].\n |  \n |  __getnewargs__(self, /)\n |  \n |  __gt__(self, value, /)\n |      Return self>value.\n |  \n |  __hash__(self, /)\n |      Return hash(self).\n |  \n |  __iter__(self, /)\n |      Implement iter(self).\n |  \n |  __le__(self, value, /)\n |      Return self<=value.\n |  \n |  __len__(self, /)\n |      Return len(self).\n |  \n |  __lt__(self, value, /)\n |      Return self<value.\n |  \n |  __mul__(self, value, /)\n |      Return self*value.\n |  \n |  __ne__(self, value, /)\n |      Return self!=value.\n |  \n |  __repr__(self, /)\n |      Return repr(self).\n |  \n |  __rmul__(self, value, /)\n |      Return value*self.\n |  \n |  count(self, value, /)\n |      Return number of occurrences of value.\n |  \n |  index(self, value, start=0, stop=9223372036854775807, /)\n |      Return first index of value.\n |      \n |      Raises ValueError if the value is not present.\n |  \n |  ----------------------------------------------------------------------\n |  Static methods defined here:\n |  \n |  __new__(*args, **kwargs) from builtins.type\n |      Create and return a new object.  See help(type) for accurate signature.\n\n"
        }
      ]
    },
    {
      "cell_type": "code",
      "execution_count": null,
      "metadata": {},
      "outputs": [],
      "source": []
    }
  ],
  "metadata": {
    "colab": {
      "name": "Tuplas.ipynb",
      "provenance": [],
      "private_outputs": true,
      "collapsed_sections": []
    },
    "kernelspec": {
      "name": "python3",
      "display_name": "Python 3"
    },
    "accelerator": "GPU"
  },
  "nbformat": 4,
  "nbformat_minor": 0
}