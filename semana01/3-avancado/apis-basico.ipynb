{
  "nbformat": 4,
  "nbformat_minor": 0,
  "metadata": {
    "colab": {
      "name": "APIsBasico.ipynb",
      "provenance": []
    },
    "kernelspec": {
      "name": "python3",
      "display_name": "Python 3"
    }
  },
  "cells": [
    {
      "cell_type": "markdown",
      "metadata": {
        "id": "RNDx8IXexIET",
        "colab_type": "text"
      },
      "source": [
        "## APIs\n",
        "Interface de Programação de Aplicação, é um conjunto de rotinas e padrões estabelecidos por um software para a utilização das suas funcionalidades por aplicativos que não pretendem envolver-se em detalhes da implementação do software, mas apenas usar seus serviços.\n"
      ]
    },
    {
      "cell_type": "code",
      "metadata": {
        "id": "WeYyyn7-xHSU",
        "colab_type": "code",
        "colab": {}
      },
      "source": [
        "# newsapi.org\n",
        "import json\n",
        "import requests\n",
        "\n",
        "try:\n",
        "  req = requests.get('https://newsapi.org/v2/top-headlines?country=br&category=technology&apiKey=be8e91e06d5b42ccbcb887ccbfb001f5')\n",
        "  noticias = json.loads(req.text)\n",
        "  for news in noticias['articles']:\n",
        "    titulo = news['title']\n",
        "    link = news['url']\n",
        "    desc = news['description']\n",
        "    mensagem = f'{titulo}\\n{desc}\\n{link}'\n",
        "    print(mensagem)\n",
        "    print()\n",
        "except Exception as e:\n",
        "  print(f\"Não desta vez! Erro encontrado: {e}\")"
      ],
      "execution_count": 0,
      "outputs": []
    }
  ]
}