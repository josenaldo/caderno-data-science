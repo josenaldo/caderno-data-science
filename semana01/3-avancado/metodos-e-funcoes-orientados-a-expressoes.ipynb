{
  "nbformat": 4,
  "nbformat_minor": 0,
  "metadata": {
    "colab": {
      "name": "MétodoseFunções.ipynb",
      "provenance": [],
      "private_outputs": true,
      "collapsed_sections": []
    },
    "kernelspec": {
      "name": "python3",
      "display_name": "Python 3"
    },
    "accelerator": "GPU"
  },
  "cells": [
    {
      "cell_type": "markdown",
      "metadata": {
        "id": "RD4wsfKJ4hm6",
        "colab_type": "text"
      },
      "source": [
        "# ***>>> Métodos e Funções***\n",
        "\n",
        "---\n",
        "\n",
        "\n",
        "Linguagens de programação orientada a objetos possuem objetos que representam coisas no mundo real e a interação destas coisas no mundo real se dá através dos métodos e funções"
      ]
    },
    {
      "cell_type": "markdown",
      "metadata": {
        "id": "RFJUp158p7qc",
        "colab_type": "text"
      },
      "source": [
        "# **>>> Funções**\n",
        "\n",
        "---\n",
        "Podem ter parâmetros ou não, podendo devolver, ou não, quaisquer dados pois funções não lidam com classes e conceitos de instâncias.\n"
      ]
    },
    {
      "cell_type": "code",
      "metadata": {
        "id": "M6fsnE_P1OAO",
        "colab_type": "code",
        "colab": {}
      },
      "source": [
        "# Estrutura básica de uma função\n",
        "def SuaFunção(a,b):\n",
        "  #insira aqui sua função"
      ],
      "execution_count": 0,
      "outputs": []
    },
    {
      "cell_type": "code",
      "metadata": {
        "id": "gdinoTfh1VdS",
        "colab_type": "code",
        "colab": {}
      },
      "source": [
        "def Subtrair(a,b):\n",
        "  return a-b"
      ],
      "execution_count": 0,
      "outputs": []
    },
    {
      "cell_type": "code",
      "metadata": {
        "id": "LMAIpoH01csI",
        "colab_type": "code",
        "colab": {}
      },
      "source": [
        "Subtrair(100,1)"
      ],
      "execution_count": 0,
      "outputs": []
    },
    {
      "cell_type": "markdown",
      "metadata": {
        "id": "Cowh2hIMpnZZ",
        "colab_type": "text"
      },
      "source": [
        "# **>>> Métodos** \n",
        "Todo método é uma função...!\n",
        "\n",
        "---"
      ]
    },
    {
      "cell_type": "code",
      "metadata": {
        "id": "WNcmka4J0-ou",
        "colab_type": "code",
        "colab": {}
      },
      "source": [
        "# Estrutura básica de um método em python\n",
        "class SuaClasse:\n",
        "  def SeuMetodo(self):"
      ],
      "execution_count": 0,
      "outputs": []
    },
    {
      "cell_type": "code",
      "metadata": {
        "id": "zk-jMCMoplHA",
        "colab_type": "code",
        "colab": {}
      },
      "source": [
        "# dir() retorna a lista de todos métodos/atributos do objeto solicitado\n",
        "x = \"OLÁ, EU SOU UMA STRING!\"\n",
        "print(dir(x))\n",
        "\n",
        "# ou dir(str), afinal, python sabe que x é uma variável do tipo string"
      ],
      "execution_count": 0,
      "outputs": []
    },
    {
      "cell_type": "code",
      "metadata": {
        "id": "83dTzILqq2J6",
        "colab_type": "code",
        "colab": {}
      },
      "source": [
        "# Help + método retorna o conceito e aplicação do método inserido\n",
        "help(str.lower)"
      ],
      "execution_count": 0,
      "outputs": []
    },
    {
      "cell_type": "code",
      "metadata": {
        "id": "b2sKNrGsrekG",
        "colab_type": "code",
        "colab": {}
      },
      "source": [
        "# Depois de listar os métodos com dir() e ler a documentação do mesmo com help() é hora de testar\n",
        "print(x.lower())"
      ],
      "execution_count": 0,
      "outputs": []
    },
    {
      "cell_type": "markdown",
      "metadata": {
        "id": "_ejYSAkd1ow3",
        "colab_type": "text"
      },
      "source": [
        "# **>>> Funções Orientadas a Expressões**\n",
        "\n",
        "---\n",
        "\n",
        "Funções in-line, comumente usadas com map(), filter(), reduce(). Não são funções em bloco, mas sim funções curtas e escritas de formas simples."
      ]
    },
    {
      "cell_type": "markdown",
      "metadata": {
        "id": "S2TDVngf1uyO",
        "colab_type": "text"
      },
      "source": [
        "## **Lambda(função,sequência)**\n",
        "Cria função de forma rápida e anônima, sem o \"def\"..."
      ]
    },
    {
      "cell_type": "code",
      "metadata": {
        "id": "DEmOcWT81zF0",
        "colab_type": "code",
        "colab": {}
      },
      "source": [
        "raiz = lambda x: x**2\n",
        "print(raiz(2))"
      ],
      "execution_count": 0,
      "outputs": []
    },
    {
      "cell_type": "markdown",
      "metadata": {
        "id": "2WUaSkSn2cTh",
        "colab_type": "text"
      },
      "source": [
        "## **Map(função,sequência)**\n",
        "Mapeia e aplica uma função a todos elementos da sequência"
      ]
    },
    {
      "cell_type": "code",
      "metadata": {
        "id": "P-8n8Bx02i45",
        "colab_type": "code",
        "colab": {}
      },
      "source": [
        "seq = [1,2,3,4,5]\n",
        "print(list(map(lambda x: x**2, seq)))"
      ],
      "execution_count": 0,
      "outputs": []
    },
    {
      "cell_type": "markdown",
      "metadata": {
        "id": "sPhXIkch2wo0",
        "colab_type": "text"
      },
      "source": [
        "## **Reduce(função,sequência)**\n",
        "Aplica a sequência a uma função e reduz a um único valor final"
      ]
    },
    {
      "cell_type": "code",
      "metadata": {
        "id": "Lx3jjzQT25dT",
        "colab_type": "code",
        "colab": {}
      },
      "source": [
        "from functools import reduce\n",
        "reduce((lambda x,y:x*y), [1,2,3,4,5])"
      ],
      "execution_count": 0,
      "outputs": []
    },
    {
      "cell_type": "markdown",
      "metadata": {
        "id": "ahVx2Jyb3H4B",
        "colab_type": "text"
      },
      "source": [
        "## **Filter**\n",
        "Filtra os elementos da sequência que retornarem True"
      ]
    },
    {
      "cell_type": "code",
      "metadata": {
        "id": "RskR9Iss3Ntg",
        "colab_type": "code",
        "colab": {}
      },
      "source": [
        "seq = range(-5,5)\n",
        "negativos = list(filter(lambda x: x<0, seq))\n",
        "print(negativos)"
      ],
      "execution_count": 0,
      "outputs": []
    },
    {
      "cell_type": "markdown",
      "metadata": {
        "id": "Vqsd0wc63lzF",
        "colab_type": "text"
      },
      "source": [
        "## **List Comprehension**\n",
        "Performance mais alta que o FOR, desenvolve loops de repetição dentro de sequências"
      ]
    },
    {
      "cell_type": "code",
      "metadata": {
        "id": "dz768UAq3vhk",
        "colab_type": "code",
        "colab": {}
      },
      "source": [
        "mlt = [i for i in range(33) if i%3==0]\n",
        "print(mlt)"
      ],
      "execution_count": 0,
      "outputs": []
    },
    {
      "cell_type": "markdown",
      "metadata": {
        "id": "YHoQru-i8Wf3",
        "colab_type": "text"
      },
      "source": [
        "## **Zip**\n",
        "Zipa 2 sequências retornando apenas uma com o numero de elementos da menor"
      ]
    },
    {
      "cell_type": "code",
      "metadata": {
        "id": "ZBN36jjM8lSj",
        "colab_type": "code",
        "colab": {}
      },
      "source": [
        "seq1 = [1,2,3]\n",
        "seq2 = ['um','dois','tres']\n",
        "zipados = list(zip(seq1,seq2))\n",
        "print(zipados)"
      ],
      "execution_count": 0,
      "outputs": []
    },
    {
      "cell_type": "markdown",
      "metadata": {
        "id": "uvUonsDK85rC",
        "colab_type": "text"
      },
      "source": [
        "## **Enumerate**\n",
        "Numera os valores com o índice de cada valor"
      ]
    },
    {
      "cell_type": "code",
      "metadata": {
        "id": "_-TtCU068-kh",
        "colab_type": "code",
        "colab": {}
      },
      "source": [
        "seq = [1,2,3,4]\n",
        "for x in enumerate(seq):\n",
        "  print(x)"
      ],
      "execution_count": 0,
      "outputs": []
    }
  ]
}