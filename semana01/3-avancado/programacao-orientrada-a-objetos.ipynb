{
  "nbformat": 4,
  "nbformat_minor": 0,
  "metadata": {
    "colab": {
      "name": "POO.ipynb",
      "provenance": [],
      "collapsed_sections": [
        "fWdSdPQuPJYP",
        "GLekKo3oPc2h",
        "djld-aLZSQp5"
      ]
    },
    "kernelspec": {
      "name": "python3",
      "display_name": "Python 3"
    }
  },
  "cells": [
    {
      "cell_type": "markdown",
      "metadata": {
        "id": "P9qc_4U1sihN",
        "colab_type": "text"
      },
      "source": [
        "# **>>> Programação Orientada a Objetos(POO)**\n",
        "Maiores informações [AQUI](https://pt.wikipedia.org/wiki/Programa%C3%A7%C3%A3o_orientada_a_objetos)\n",
        "\n",
        "---\n",
        "\n",
        "Dados >>> Atributos/Comportamento >>> Métodos"
      ]
    },
    {
      "cell_type": "markdown",
      "metadata": {
        "id": "fWdSdPQuPJYP",
        "colab_type": "text"
      },
      "source": [
        "## **>>> Classes**\n",
        "\n",
        "---\n",
        "\n"
      ]
    },
    {
      "cell_type": "code",
      "metadata": {
        "id": "fzFA1i2FsSnK",
        "colab_type": "code",
        "colab": {}
      },
      "source": [
        "# Classes\n",
        "class Carro:\n",
        "  pass"
      ],
      "execution_count": 0,
      "outputs": []
    },
    {
      "cell_type": "code",
      "metadata": {
        "id": "UCBaGaZHQaJ4",
        "colab_type": "code",
        "outputId": "dfe7aabd-ec67-4abf-dc02-512a235282d2",
        "colab": {
          "base_uri": "https://localhost:8080/",
          "height": 34
        }
      },
      "source": [
        "# Criando uma classe\n",
        "class Pessoa:\n",
        "  def __init__(self,nome,idade):\n",
        "    self.nome = nome\n",
        "    self.idade = idade\n",
        "\n",
        "b1 = Pessoa(\"Weber\", 27)\n",
        "print(b1.nome)"
      ],
      "execution_count": 0,
      "outputs": [
        {
          "output_type": "stream",
          "text": [
            "Weber\n"
          ],
          "name": "stdout"
        }
      ]
    },
    {
      "cell_type": "code",
      "metadata": {
        "id": "WFkGFxTORRVl",
        "colab_type": "code",
        "outputId": "dd49959e-e323-4969-d934-8c2f38ffbbd6",
        "colab": {
          "base_uri": "https://localhost:8080/",
          "height": 34
        }
      },
      "source": [
        "# Atributo Getter\n",
        "getattr(b1, \"nome\")"
      ],
      "execution_count": 0,
      "outputs": [
        {
          "output_type": "execute_result",
          "data": {
            "text/plain": [
              "'Weber'"
            ]
          },
          "metadata": {
            "tags": []
          },
          "execution_count": 3
        }
      ]
    },
    {
      "cell_type": "code",
      "metadata": {
        "id": "FN_IrzeJRse-",
        "colab_type": "code",
        "outputId": "4b20c86e-e1e9-4b96-c49e-6664f1477d60",
        "colab": {
          "base_uri": "https://localhost:8080/",
          "height": 34
        }
      },
      "source": [
        "# Atributo Setter\n",
        "setattr(b1, \"nome\", \"Web\")\n",
        "print(b1.nome)"
      ],
      "execution_count": 0,
      "outputs": [
        {
          "output_type": "stream",
          "text": [
            "Web\n"
          ],
          "name": "stdout"
        }
      ]
    },
    {
      "cell_type": "markdown",
      "metadata": {
        "id": "GLekKo3oPc2h",
        "colab_type": "text"
      },
      "source": [
        "## **>>> Objetos**\n",
        "\n",
        "---\n",
        "\n"
      ]
    },
    {
      "cell_type": "code",
      "metadata": {
        "id": "BjIsd8bPJyw6",
        "colab_type": "code",
        "outputId": "45f63db7-d852-4187-fed7-e7379f1619b3",
        "colab": {
          "base_uri": "https://localhost:8080/",
          "height": 34
        }
      },
      "source": [
        "# Objetos são instâncias de uma classe\n",
        "fusca = Carro()\n",
        "print(fusca)"
      ],
      "execution_count": 0,
      "outputs": [
        {
          "output_type": "stream",
          "text": [
            "<__main__.Carro object at 0x7f12d611b9b0>\n"
          ],
          "name": "stdout"
        }
      ]
    },
    {
      "cell_type": "code",
      "metadata": {
        "id": "Aht9yvLlPo1V",
        "colab_type": "code",
        "colab": {}
      },
      "source": [
        "'''\n",
        "Todos tipos de dados em Python são objetos. \n",
        "Lista, inteiros, floating, booleanos e strings são classes.\n",
        "Ao utilizarmos o dir() recebemos a lista de seus métodos e funções.\n",
        "'''"
      ],
      "execution_count": 0,
      "outputs": []
    },
    {
      "cell_type": "code",
      "metadata": {
        "id": "vb1Rb3B4QFmu",
        "colab_type": "code",
        "outputId": "6bfccb62-df89-406e-86d3-65229cb3445b",
        "colab": {
          "base_uri": "https://localhost:8080/",
          "height": 34
        }
      },
      "source": [
        "# A variável abaixo é uma instância da classe \"list\"\n",
        "lista = [1,2,3,4,5]\n",
        "print(type(lista))"
      ],
      "execution_count": 0,
      "outputs": [
        {
          "output_type": "stream",
          "text": [
            "<class 'list'>\n"
          ],
          "name": "stdout"
        }
      ]
    },
    {
      "cell_type": "code",
      "metadata": {
        "id": "cQ0YiDmYKER_",
        "colab_type": "code",
        "colab": {}
      },
      "source": [
        "# Atributos e o método __init__(construtor)\n",
        "class Carro:\n",
        "  def __init__(self,rodas,tanque,bancos,velocidade):\n",
        "    self.rodas = rodas\n",
        "    self.tanque = tanque\n",
        "    self.bancos = bancos\n",
        "    self.velocidade = velocidade"
      ],
      "execution_count": 0,
      "outputs": []
    },
    {
      "cell_type": "code",
      "metadata": {
        "id": "AmUJDuhGKjT3",
        "colab_type": "code",
        "colab": {}
      },
      "source": [
        "# Criando um objeto com atributos\n",
        "tesla = Carro(4,\"200 litros\",5,\"250km/h\")"
      ],
      "execution_count": 0,
      "outputs": []
    },
    {
      "cell_type": "code",
      "metadata": {
        "id": "PlDBxW4DLvQo",
        "colab_type": "code",
        "outputId": "cba1694c-6430-4382-e4eb-7e20e291a357",
        "colab": {
          "base_uri": "https://localhost:8080/",
          "height": 34
        }
      },
      "source": [
        "# Acessando os valores\n",
        "print(f\"Nosso veículo possui {tesla.rodas} rodas, tanque com capacidade de até {tesla.tanque}, {tesla.bancos} assentos e acelera até {tesla.velocidade}\")"
      ],
      "execution_count": 0,
      "outputs": [
        {
          "output_type": "stream",
          "text": [
            "Nosso veículo possui 4 rodas, tanque com capacidade de até 200 litros, 5 assentos e acelera até 250km/h\n"
          ],
          "name": "stdout"
        }
      ]
    },
    {
      "cell_type": "code",
      "metadata": {
        "id": "lX8yRgohMdzz",
        "colab_type": "code",
        "outputId": "17180b70-5cc9-4824-beea-df76674ea8cb",
        "colab": {
          "base_uri": "https://localhost:8080/",
          "height": 34
        }
      },
      "source": [
        "# Alterando valores\n",
        "tesla.rodas = 2\n",
        "print(tesla.rodas)"
      ],
      "execution_count": 0,
      "outputs": [
        {
          "output_type": "stream",
          "text": [
            "2\n"
          ],
          "name": "stdout"
        }
      ]
    },
    {
      "cell_type": "markdown",
      "metadata": {
        "id": "djld-aLZSQp5",
        "colab_type": "text"
      },
      "source": [
        "## **>>> Métodos**\n",
        "\n",
        "---\n",
        "\n"
      ]
    },
    {
      "cell_type": "code",
      "metadata": {
        "id": "RvVZBk75STyB",
        "colab_type": "code",
        "colab": {}
      },
      "source": [
        "# Criando método com valor default\n",
        "class Turista():\n",
        "  def __init__(self, nome, nacionalidade = 'brasileira'):\n",
        "    self.nome = nome\n",
        "    self.nacionalidade = nacionalidade"
      ],
      "execution_count": 0,
      "outputs": []
    },
    {
      "cell_type": "code",
      "metadata": {
        "id": "QmXbPUZrS4-8",
        "colab_type": "code",
        "colab": {}
      },
      "source": [
        "# Criando diversos métodos para uma mesma classe\n",
        "class Turista():\n",
        "  def __init__(self, nome, nacionalidade = \"brasileira\"):\n",
        "    self.nome = nome\n",
        "    self.nacionalidade = nacionalidade\n",
        "  def ConfigNacionalidade(self, nova_nacionalidade):\n",
        "    self.nacionalidade = nova_nacionalidade\n",
        "  def ConfigNome(self, novo_nome):\n",
        "    self.nome = novo_nome"
      ],
      "execution_count": 0,
      "outputs": []
    },
    {
      "cell_type": "code",
      "metadata": {
        "id": "R7b7n3YNTTBQ",
        "colab_type": "code",
        "outputId": "73929b7f-38db-44a7-d3f9-c9f2c7290cf4",
        "colab": {
          "base_uri": "https://localhost:8080/",
          "height": 34
        }
      },
      "source": [
        "t1 = Turista(\"Anita\")\n",
        "print(t1.nome, t1.nacionalidade)"
      ],
      "execution_count": 0,
      "outputs": [
        {
          "output_type": "stream",
          "text": [
            "Anita brasileira\n"
          ],
          "name": "stdout"
        }
      ]
    },
    {
      "cell_type": "code",
      "metadata": {
        "id": "1pljzYHdTmgy",
        "colab_type": "code",
        "outputId": "a128bcb9-d246-4f58-ca16-56e4a02b4e15",
        "colab": {
          "base_uri": "https://localhost:8080/",
          "height": 34
        }
      },
      "source": [
        "t1.ConfigNacionalidade(\"Espanhola\")\n",
        "print(t1.nome, t1.nacionalidade)"
      ],
      "execution_count": 0,
      "outputs": [
        {
          "output_type": "stream",
          "text": [
            "Anita Espanhola\n"
          ],
          "name": "stdout"
        }
      ]
    },
    {
      "cell_type": "markdown",
      "metadata": {
        "id": "ni8oRAgJOBgf",
        "colab_type": "text"
      },
      "source": [
        "## **>>> Herança**\n",
        "---\n",
        "\n",
        "Ao criar uma nova classe você pode querer \"herdar\" os atributos de outra classe."
      ]
    },
    {
      "cell_type": "code",
      "metadata": {
        "id": "PnqISTr1OLRY",
        "colab_type": "code",
        "outputId": "30428ffc-0ed7-4c6a-f1ff-7f7017743fd8",
        "colab": {
          "base_uri": "https://localhost:8080/",
          "height": 34
        }
      },
      "source": [
        "# Classe Carro\n",
        "class Carro:\n",
        "  def __init__(self,rodas,tanque,bancos,velocidade):\n",
        "    self.rodas = rodas\n",
        "    self.tanque = tanque\n",
        "    self.bancos = bancos\n",
        "    self.velocidade = velocidade\n",
        "\n",
        "# Classe Carro Elétrico\n",
        "class CarroEletrico:\n",
        "  def __init__(self,rodas,tanque,bancos,velocidade):\n",
        "    Carro.__init__(self,rodas,tanque,bancos,velocidade)\n",
        "\n",
        "carrinho = CarroEletrico(4,\"100 litros\",5,\"180 km/h\")\n",
        "print(carrinho.rodas)"
      ],
      "execution_count": 0,
      "outputs": [
        {
          "output_type": "stream",
          "text": [
            "4\n"
          ],
          "name": "stdout"
        }
      ]
    },
    {
      "cell_type": "markdown",
      "metadata": {
        "id": "9NvFBdSNVzN6",
        "colab_type": "text"
      },
      "source": [
        "# **>>> Diferença entre Métodos e Funções**\n",
        "\n",
        "---\n",
        "\n",
        "Função: bloco para realizar tarefa específica, podendo retornar, ou não, valores.\n",
        "\n",
        "Método: Tem de estar sempre associado a objetos/classes."
      ]
    },
    {
      "cell_type": "code",
      "metadata": {
        "id": "RX6C7zGvWZJe",
        "colab_type": "code",
        "outputId": "b496f8b4-bb33-4072-871f-a35dd8c6275d",
        "colab": {
          "base_uri": "https://localhost:8080/",
          "height": 34
        }
      },
      "source": [
        "# Função\n",
        "def soma(n1,n2):\n",
        "  return(n1+n2)\n",
        "soma(1,1)"
      ],
      "execution_count": 0,
      "outputs": [
        {
          "output_type": "execute_result",
          "data": {
            "text/plain": [
              "2"
            ]
          },
          "metadata": {
            "tags": []
          },
          "execution_count": 17
        }
      ]
    },
    {
      "cell_type": "code",
      "metadata": {
        "id": "Pb7DKjHtWhYj",
        "colab_type": "code",
        "outputId": "7ccb0fdf-1b00-4ad2-c4d7-3bef5648e0de",
        "colab": {
          "base_uri": "https://localhost:8080/",
          "height": 34
        }
      },
      "source": [
        "# Método\n",
        "class Metodo(object):\n",
        "   def metod(self):\n",
        "      print(\"Eu sou um método\")\n",
        "m1 = Metodo()\n",
        "m1.metod()"
      ],
      "execution_count": 0,
      "outputs": [
        {
          "output_type": "stream",
          "text": [
            "Eu sou um método\n"
          ],
          "name": "stdout"
        }
      ]
    }
  ]
}