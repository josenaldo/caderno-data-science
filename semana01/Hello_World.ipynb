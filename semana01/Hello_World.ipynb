{
 "cells": [
  {
   "cell_type": "markdown",
   "metadata": {
    "colab_type": "text",
    "id": "-JL3t9Nf3yF-"
   },
   "source": [
    "# Testando o Google Cloud\n",
    "\n",
    "Escrevendo essa zorra pela terceira vez.\n"
   ]
  },
  {
   "cell_type": "code",
   "execution_count": 2,
   "metadata": {
    "colab": {
     "base_uri": "https://localhost:8080/",
     "height": 34
    },
    "colab_type": "code",
    "id": "vOC7WSMb35cZ",
    "outputId": "94418058-b17c-41b2-865d-06ff5636bb61"
   },
   "outputs": [
    {
     "name": "stdout",
     "output_type": "stream",
     "text": [
      "Hello World\n"
     ]
    }
   ],
   "source": [
    "print (\"Hello World\")"
   ]
  },
  {
   "cell_type": "code",
   "execution_count": 1,
   "metadata": {},
   "outputs": [
    {
     "output_type": "stream",
     "name": "stdout",
     "text": "O capiau digitou essa parada: 3\n"
    }
   ],
   "source": [
    "x = input (\"Digita uma coisa aí, capiau: \")\n",
    "print (f\"O capiau digitou essa parada: {x}\")"
   ]
  }
 ],
 "metadata": {
  "colab": {
   "authorship_tag": "ABX9TyOneZEzoknC7DZtAuCw+yaM",
   "collapsed_sections": [],
   "include_colab_link": true,
   "mount_file_id": "1KqdKjQJ1tHIfaQCePFcNYz3CgKG83TaH",
   "name": "Hello-World.ipynb",
   "provenance": [],
   "toc_visible": true
  },
  "kernelspec": {
   "display_name": "Python 3",
   "language": "python",
   "name": "python3"
  },
  "language_info": {
   "codemirror_mode": {
    "name": "ipython",
    "version": 3
   },
   "file_extension": ".py",
   "mimetype": "text/x-python",
   "name": "python",
   "nbconvert_exporter": "python",
   "pygments_lexer": "ipython3",
   "version": "3.7.6-final"
  }
 },
 "nbformat": 4,
 "nbformat_minor": 4
}