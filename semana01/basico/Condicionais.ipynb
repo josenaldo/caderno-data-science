{
  "nbformat": 4,
  "nbformat_minor": 0,
  "metadata": {
    "colab": {
      "name": "Condicionais.ipynb",
      "provenance": [],
      "private_outputs": true,
      "collapsed_sections": []
    },
    "kernelspec": {
      "name": "python3",
      "display_name": "Python 3"
    },
    "accelerator": "GPU"
  },
  "cells": [
    {
      "cell_type": "markdown",
      "metadata": {
        "id": "LSPHqVUFckTR",
        "colab_type": "text"
      },
      "source": [
        "# **If**"
      ]
    },
    {
      "cell_type": "code",
      "metadata": {
        "id": "UshFBe_vF_EQ",
        "colab_type": "code",
        "colab": {}
      },
      "source": [
        "x = 10\n",
        "if x > 0:\n",
        "\tprint('Número positivo')\n",
        "else:\n",
        "\tprint('Número negativo')"
      ],
      "execution_count": 0,
      "outputs": []
    },
    {
      "cell_type": "markdown",
      "metadata": {
        "id": "hzFJUWCkp1ik",
        "colab_type": "text"
      },
      "source": [
        "# **Conectivos Lógicos**\n",
        "![alt text](http://uploaddeimagens.com.br/images/002/157/511/full/conectivos-logicos.jpg?1561550251)"
      ]
    },
    {
      "cell_type": "code",
      "metadata": {
        "id": "O4RpA6p5baPA",
        "colab_type": "code",
        "colab": {}
      },
      "source": [
        "x = \"janeiro\"\n",
        "if x == 'janeiro' or x == 'fevereiro' or x == 'março':\n",
        "\tprint('Trimestre 1')\n",
        "elif x == 'abril' or x == 'maio' or x == 'junho':\n",
        "\tprint('Trimestre 2')\n",
        "else:\n",
        "\tprint('Trimestre 3')"
      ],
      "execution_count": 0,
      "outputs": []
    },
    {
      "cell_type": "markdown",
      "metadata": {
        "id": "q1yVwPBZl3Jl",
        "colab_type": "text"
      },
      "source": [
        "## **>>> Exercícios**\n",
        "\n",
        "\n",
        "1.   Crie um algoritmo que solicite do usuário um número e calcule se ele é POSITIVO ou NEGATIVO (fácil)\n",
        "2.   Crie um algoritmo que solicite peso e altura e como resultado printe o IMC na tela (médio)\n",
        "3.   Crie um algoritmo que solicite do usuário um número e printe na tela PAR, quando número par e IMPAR, quando número ímpar(difícil)"
      ]
    }
  ]
}