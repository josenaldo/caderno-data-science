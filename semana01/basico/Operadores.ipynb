{
 "cells": [
  {
   "cell_type": "markdown",
   "metadata": {
    "colab_type": "text",
    "id": "1aMFiRCKgaXU"
   },
   "source": [
    "# **Operadores Aritméticos**\n",
    "\n",
    "---\n",
    "\n",
    "![alt text](http://uploaddeimagens.com.br/images/002/157/495/full/novo.jpg?1561548911)"
   ]
  },
  {
   "cell_type": "code",
   "execution_count": null,
   "metadata": {
    "colab": {},
    "colab_type": "code",
    "id": "F_FhFqcrF17b"
   },
   "outputs": [],
   "source": [
    "# SOMA NÚMEROS\n",
    "\n",
    "print(5+1)"
   ]
  },
  {
   "cell_type": "code",
   "execution_count": null,
   "metadata": {
    "colab": {},
    "colab_type": "code",
    "id": "cooSXrd-ZcJ5"
   },
   "outputs": [],
   "source": [
    "# SOMA STRINGS\n",
    "\n",
    "print(\"chat\"+\"bot\")"
   ]
  },
  {
   "cell_type": "code",
   "execution_count": null,
   "metadata": {
    "colab": {},
    "colab_type": "code",
    "id": "4CW8_SbQZcS9"
   },
   "outputs": [],
   "source": [
    "# SUBTRAÇÃO\n",
    "\n",
    "print(150-50)"
   ]
  },
  {
   "cell_type": "code",
   "execution_count": null,
   "metadata": {
    "colab": {},
    "colab_type": "code",
    "id": "XVgaRWtFZcam"
   },
   "outputs": [],
   "source": [
    "# MULTIPLICAÇÃO\n",
    "\n",
    "print(5*3)"
   ]
  },
  {
   "cell_type": "code",
   "execution_count": null,
   "metadata": {
    "colab": {},
    "colab_type": "code",
    "id": "2-ApCdN7ZciJ"
   },
   "outputs": [],
   "source": [
    "# DIVISÃO\n",
    "\n",
    "print(100/3)"
   ]
  },
  {
   "cell_type": "code",
   "execution_count": null,
   "metadata": {
    "colab": {},
    "colab_type": "code",
    "id": "r9TDnllYZcoR"
   },
   "outputs": [],
   "source": [
    "# EXPONENCIAÇÃO\n",
    "\n",
    "print(2**3)"
   ]
  },
  {
   "cell_type": "code",
   "execution_count": null,
   "metadata": {
    "colab": {},
    "colab_type": "code",
    "id": "7h8HOrPdZcvf"
   },
   "outputs": [],
   "source": [
    "# PARTE INTEIRA DA DIVISÃO\n",
    "\n",
    "print(100//3)"
   ]
  },
  {
   "cell_type": "code",
   "execution_count": null,
   "metadata": {
    "colab": {},
    "colab_type": "code",
    "id": "f3icQP7hZc3o"
   },
   "outputs": [],
   "source": [
    "# RESTO DA DIVISÃO\n",
    "\n",
    "print(100%3)"
   ]
  },
  {
   "cell_type": "markdown",
   "metadata": {
    "colab_type": "text",
    "id": "wn5kvuiEMjHr"
   },
   "source": [
    "# **Regras de Precedência(PEMDAS)** \n",
    "<br>**P**: de parênteses! tem a mais alta precedência e por isto, em casos onde houverem parênteses, estes cálculos serão realizados primeiro.\n",
    "<br>2 * (3+1) = 8\n",
    "<br>2 * 3 + 1 = 7\n",
    "<br><br>**E**: de exponenciação! possui a segunda precedência mais alta.\n",
    "<br>2 ** 1+1 = 3\n",
    "<br><br>**MDAS**: Multiplicação e Divisão são a terceira precedência mais alta, restando a adição e subtração em ultima posição na ordem de precedência.\n",
    "<br>2 * 3-1 = 5"
   ]
  },
  {
   "cell_type": "markdown",
   "metadata": {
    "colab_type": "text",
    "id": "pUGCKvG6jIjo"
   },
   "source": [
    "# **Operadores Lógicos**\n",
    "\n",
    "---\n",
    "\n",
    "![alt text](http://uploaddeimagens.com.br/images/002/157/489/original/operadores-logicos.jpg?1561548629)"
   ]
  },
  {
   "cell_type": "code",
   "execution_count": null,
   "metadata": {
    "colab": {},
    "colab_type": "code",
    "id": "eiKaiZN7fdV2"
   },
   "outputs": [],
   "source": [
    "# MAIOR >\n",
    "print(10 > 0)"
   ]
  },
  {
   "cell_type": "code",
   "execution_count": null,
   "metadata": {
    "colab": {},
    "colab_type": "code",
    "id": "tD0I9RAtav3U"
   },
   "outputs": [],
   "source": [
    "# MENOR <\n",
    "print(0 < 10)"
   ]
  },
  {
   "cell_type": "code",
   "execution_count": null,
   "metadata": {
    "colab": {},
    "colab_type": "code",
    "id": "LI4sioN2awBD"
   },
   "outputs": [],
   "source": [
    "# MAIOR OU IGUAL >=\n",
    "print(10 >= 10)"
   ]
  },
  {
   "cell_type": "code",
   "execution_count": null,
   "metadata": {
    "colab": {},
    "colab_type": "code",
    "id": "UPpqU_nmawKJ"
   },
   "outputs": [],
   "source": [
    "# MENOR OU IGUAL <=\n",
    "print(10 <= 20)"
   ]
  },
  {
   "cell_type": "code",
   "execution_count": null,
   "metadata": {
    "colab": {},
    "colab_type": "code",
    "id": "qbKzfb_2awT3"
   },
   "outputs": [],
   "source": [
    "# IGUAL ==\n",
    "print(10 == 10)"
   ]
  },
  {
   "cell_type": "code",
   "execution_count": null,
   "metadata": {
    "colab": {},
    "colab_type": "code",
    "id": "WIz9HtKkawc9"
   },
   "outputs": [],
   "source": [
    "# DIFERENTE !=\n",
    "print(10 != \"10\")"
   ]
  },
  {
   "cell_type": "markdown",
   "metadata": {
    "colab_type": "text",
    "id": "u_VX05mencE6"
   },
   "source": [
    "# **Operador in**"
   ]
  },
  {
   "cell_type": "code",
   "execution_count": null,
   "metadata": {
    "colab": {},
    "colab_type": "code",
    "id": "4m6kUWxnnHUn"
   },
   "outputs": [],
   "source": [
    "# Operador IN verifica se o elemento está contido na estrutura citada\n",
    "x = \"python\"\n",
    "print(\"p\" in x)"
   ]
  },
  {
   "cell_type": "markdown",
   "metadata": {
    "colab_type": "text",
    "id": "v-5cb-wikmAX"
   },
   "source": [
    "## **>>> Exercícios**\n",
    "\n",
    "\n",
    "1.   Crie um algoritmo que solicite do usuário 2 números e apresente a soma de ambos (fácil)\n",
    "2.   Crie um algoritmo que solicite do usuário 2 números e apresente o intervalo númerico entre eles (médio)\n",
    "3.   Crie um algoritmo que solicite do usuário 2 números e apresente o mínimo múltiplo comum(MMC) entre eles (difícil)\n",
    "\n",
    "\n"
   ]
  },
  {
   "cell_type": "code",
   "execution_count": 2,
   "metadata": {},
   "outputs": [
    {
     "name": "stdin",
     "output_type": "stream",
     "text": [
      "Insira o primeiro número:  2\n",
      "Insira o segundo número:  3\n"
     ]
    },
    {
     "name": "stdout",
     "output_type": "stream",
     "text": [
      "2 + 3 = 5\n"
     ]
    }
   ],
   "source": [
    "# Exercicio 1\n",
    "num1 = int(input(\"Insira o primeiro número: \"))\n",
    "num2 = int(input(\"Insira o segundo número: \"))\n",
    "\n",
    "soma = num1 + num2\n",
    "\n",
    "print(f\"{num1} + {num2} = {soma}\")"
   ]
  },
  {
   "cell_type": "code",
   "execution_count": 3,
   "metadata": {},
   "outputs": [
    {
     "name": "stdin",
     "output_type": "stream",
     "text": [
      "Insira o primeiro número:  3\n",
      "Insira o segundo número:  45\n"
     ]
    },
    {
     "name": "stdout",
     "output_type": "stream",
     "text": [
      "4..44\n"
     ]
    }
   ],
   "source": [
    "#Exercício 2\n",
    "inicio = int(input(\"Insira o primeiro número: \"))\n",
    "fim = int(input(\"Insira o segundo número: \"))\n",
    "\n",
    "print (f\"{inicio + 1}..{fim - 1}\")\n"
   ]
  },
  {
   "cell_type": "code",
   "execution_count": 8,
   "metadata": {},
   "outputs": [
    {
     "name": "stdin",
     "output_type": "stream",
     "text": [
      "Insira o primeiro número:  12\n",
      "Insira o segundo número:  14\n"
     ]
    },
    {
     "name": "stdout",
     "output_type": "stream",
     "text": [
      "O MMC de 12 e 14 é 84.0\n"
     ]
    }
   ],
   "source": [
    "#Exercício 3\n",
    "a = int(input(\"Insira o primeiro número: \"))\n",
    "b = int(input(\"Insira o segundo número: \"))\n",
    "\n",
    "x = a\n",
    "y = b\n",
    "resto = None\n",
    "\n",
    "while (resto != 0):\n",
    "    resto = x % y\n",
    "    x = y\n",
    "    y = resto\n",
    "    \n",
    "mdc = x\n",
    "\n",
    "mmc = (a * b) / mdc\n",
    "\n",
    "print(f\"O MMC de {a} e {b} é {mmc}\")"
   ]
  },
  {
   "cell_type": "code",
   "execution_count": null,
   "metadata": {},
   "outputs": [],
   "source": []
  }
 ],
 "metadata": {
  "accelerator": "GPU",
  "colab": {
   "collapsed_sections": [],
   "name": "Operadores.ipynb",
   "private_outputs": true,
   "provenance": []
  },
  "kernelspec": {
   "display_name": "Python 3",
   "language": "python",
   "name": "python3"
  },
  "language_info": {
   "codemirror_mode": {
    "name": "ipython",
    "version": 3
   },
   "file_extension": ".py",
   "mimetype": "text/x-python",
   "name": "python",
   "nbconvert_exporter": "python",
   "pygments_lexer": "ipython3",
   "version": "3.7.6"
  }
 },
 "nbformat": 4,
 "nbformat_minor": 4
}
