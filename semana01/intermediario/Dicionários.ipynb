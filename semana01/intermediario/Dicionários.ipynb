{
  "cells": [
    {
      "cell_type": "markdown",
      "metadata": {
        "id": "vhllsPG5SOzi",
        "colab_type": "text"
      },
      "source": [
        "# **Dicionários**\n",
        "\n",
        "---"
      ]
    },
    {
      "cell_type": "code",
      "metadata": {
        "id": "XtAh-NKWSMvH",
        "colab_type": "code",
        "colab": {}
      },
      "source": [
        "dic = {'nome':\"Weber\", 'idade':27, 'altura':1.81}\n",
        "print(type(dic))"
      ],
      "execution_count": 0,
      "outputs": []
    },
    {
      "cell_type": "code",
      "metadata": {
        "id": "GIYYVyeEUGQW",
        "colab_type": "code",
        "colab": {}
      },
      "source": [
        "# Acessando chaves(atributos)\n",
        "print(dic.keys())"
      ],
      "execution_count": 0,
      "outputs": []
    },
    {
      "cell_type": "code",
      "metadata": {
        "id": "vAC1uRbSUJSq",
        "colab_type": "code",
        "colab": {}
      },
      "source": [
        "# Acessando valores\n",
        "print(dic.values())"
      ],
      "execution_count": 0,
      "outputs": []
    },
    {
      "cell_type": "code",
      "metadata": {
        "id": "ZcLY7eQ9UXJQ",
        "colab_type": "code",
        "colab": {}
      },
      "source": [
        "# Acessando valor+chave\n",
        "print(dic.items())"
      ],
      "execution_count": 0,
      "outputs": []
    },
    {
      "cell_type": "code",
      "metadata": {
        "id": "mhCMokTnSnqM",
        "colab_type": "code",
        "colab": {}
      },
      "source": [
        "# Organizando as informações\n",
        "print(f\"O nome dele é {dic['nome']}, tem {dic['idade']} anos e mede {dic['altura']}m\")"
      ],
      "execution_count": 0,
      "outputs": []
    },
    {
      "cell_type": "code",
      "metadata": {
        "id": "YuwOr0BlA54l",
        "colab_type": "code",
        "colab": {}
      },
      "source": [
        "dir(dict)"
      ],
      "execution_count": 0,
      "outputs": []
    },
    {
      "cell_type": "code",
      "metadata": {
        "id": "FPSNbOZQA-Bc",
        "colab_type": "code",
        "colab": {}
      },
      "source": [
        "help(dict)"
      ],
      "execution_count": 3,
      "outputs": [
        {
          "output_type": "stream",
          "name": "stdout",
          "text": "Help on class dict in module builtins:\n\nclass dict(object)\n |  dict() -> new empty dictionary\n |  dict(mapping) -> new dictionary initialized from a mapping object's\n |      (key, value) pairs\n |  dict(iterable) -> new dictionary initialized as if via:\n |      d = {}\n |      for k, v in iterable:\n |          d[k] = v\n |  dict(**kwargs) -> new dictionary initialized with the name=value pairs\n |      in the keyword argument list.  For example:  dict(one=1, two=2)\n |  \n |  Methods defined here:\n |  \n |  __contains__(self, key, /)\n |      True if the dictionary has the specified key, else False.\n |  \n |  __delitem__(self, key, /)\n |      Delete self[key].\n |  \n |  __eq__(self, value, /)\n |      Return self==value.\n |  \n |  __ge__(self, value, /)\n |      Return self>=value.\n |  \n |  __getattribute__(self, name, /)\n |      Return getattr(self, name).\n |  \n |  __getitem__(...)\n |      x.__getitem__(y) <==> x[y]\n |  \n |  __gt__(self, value, /)\n |      Return self>value.\n |  \n |  __init__(self, /, *args, **kwargs)\n |      Initialize self.  See help(type(self)) for accurate signature.\n |  \n |  __iter__(self, /)\n |      Implement iter(self).\n |  \n |  __le__(self, value, /)\n |      Return self<=value.\n |  \n |  __len__(self, /)\n |      Return len(self).\n |  \n |  __lt__(self, value, /)\n |      Return self<value.\n |  \n |  __ne__(self, value, /)\n |      Return self!=value.\n |  \n |  __repr__(self, /)\n |      Return repr(self).\n |  \n |  __setitem__(self, key, value, /)\n |      Set self[key] to value.\n |  \n |  __sizeof__(...)\n |      D.__sizeof__() -> size of D in memory, in bytes\n |  \n |  clear(...)\n |      D.clear() -> None.  Remove all items from D.\n |  \n |  copy(...)\n |      D.copy() -> a shallow copy of D\n |  \n |  get(self, key, default=None, /)\n |      Return the value for key if key is in the dictionary, else default.\n |  \n |  items(...)\n |      D.items() -> a set-like object providing a view on D's items\n |  \n |  keys(...)\n |      D.keys() -> a set-like object providing a view on D's keys\n |  \n |  pop(...)\n |      D.pop(k[,d]) -> v, remove specified key and return the corresponding value.\n |      If key is not found, d is returned if given, otherwise KeyError is raised\n |  \n |  popitem(...)\n |      D.popitem() -> (k, v), remove and return some (key, value) pair as a\n |      2-tuple; but raise KeyError if D is empty.\n |  \n |  setdefault(self, key, default=None, /)\n |      Insert key with a value of default if key is not in the dictionary.\n |      \n |      Return the value for key if key is in the dictionary, else default.\n |  \n |  update(...)\n |      D.update([E, ]**F) -> None.  Update D from dict/iterable E and F.\n |      If E is present and has a .keys() method, then does:  for k in E: D[k] = E[k]\n |      If E is present and lacks a .keys() method, then does:  for k, v in E: D[k] = v\n |      In either case, this is followed by: for k in F:  D[k] = F[k]\n |  \n |  values(...)\n |      D.values() -> an object providing a view on D's values\n |  \n |  ----------------------------------------------------------------------\n |  Class methods defined here:\n |  \n |  fromkeys(iterable, value=None, /) from builtins.type\n |      Create a new dictionary with keys from iterable and values set to value.\n |  \n |  ----------------------------------------------------------------------\n |  Static methods defined here:\n |  \n |  __new__(*args, **kwargs) from builtins.type\n |      Create and return a new object.  See help(type) for accurate signature.\n |  \n |  ----------------------------------------------------------------------\n |  Data and other attributes defined here:\n |  \n |  __hash__ = None\n\n"
        }
      ]
    },
    {
      "cell_type": "markdown",
      "metadata": {
        "id": "_OO60D1qBEjl",
        "colab_type": "text"
      },
      "source": [
        "# **>>> Exercícios**\n",
        "\n",
        "---\n",
        "\n",
        "\n",
        "\n",
        "\n"
      ]
    },
    {
      "cell_type": "markdown",
      "metadata": {
        "id": "AywDi935hNK2",
        "colab_type": "text"
      },
      "source": [
        "1.   Crie um dicionário com, pelo menos, 3 chaves/valor (fácil)\n"
      ]
    },
    {
      "cell_type": "code",
      "metadata": {
        "id": "NpX99qf4hOqX",
        "colab_type": "code",
        "colab": {}
      },
      "source": [
        "# Exercício 1\n",
        "dic = {\n",
        "    \"nome\" : \"Josenaldo\",\n",
        "    \"idade\" : 39,\n",
        "    \"altura\" : 1.86,\n",
        "}\n",
        "\n",
        "print(dic)"
      ],
      "execution_count": 4,
      "outputs": [
        {
          "output_type": "stream",
          "name": "stdout",
          "text": "{'nome': 'Josenaldo', 'idade': 39, 'altura': 1.86}\n"
        }
      ]
    },
    {
      "cell_type": "markdown",
      "metadata": {
        "id": "lddPK___hO3e",
        "colab_type": "text"
      },
      "source": [
        "2.   Em uma nova célula remova 1 ítem chave/valor do dicionário criado anteriormente (médio)\n"
      ]
    },
    {
      "cell_type": "code",
      "metadata": {
        "id": "foaE8Ni8hQCn",
        "colab_type": "code",
        "colab": {}
      },
      "source": [
        "# Exercício 2\n",
        "\n",
        "dic.pop(\"idade\")\n",
        "print(dic)"
      ],
      "execution_count": 5,
      "outputs": [
        {
          "output_type": "stream",
          "name": "stdout",
          "text": "{'nome': 'Josenaldo', 'altura': 1.86}\n"
        }
      ]
    },
    {
      "cell_type": "markdown",
      "metadata": {
        "id": "6UI_sDbZhQiN",
        "colab_type": "text"
      },
      "source": [
        "3.   Crie um novo dicionário, armazenando-o em uma nova variável e agora unifique este com outro dicionário criado anteriormente (difícil)"
      ]
    },
    {
      "cell_type": "code",
      "metadata": {
        "id": "Id27lDUUhRIY",
        "colab_type": "code",
        "colab": {}
      },
      "source": [
        "# Exercício 3\n",
        "outrodic = {\n",
        "    \"peso\": 88,\n",
        "    \"sobrenome\": \"Matos\",\n",
        "    \"apelido\": \"Vudu Reverso\",\n",
        "}\n",
        "\n",
        "dic.update(outrodic)\n",
        "print(dic)"
      ],
      "execution_count": 6,
      "outputs": [
        {
          "output_type": "stream",
          "name": "stdout",
          "text": "{'nome': 'Josenaldo', 'altura': 1.86, 'peso': 88, 'sobrenome': 'Matos', 'apelido': 'Vudu Reverso'}\n"
        }
      ]
    }
  ],
  "metadata": {
    "colab": {
      "name": "Dicionários.ipynb",
      "provenance": [],
      "private_outputs": true,
      "collapsed_sections": []
    },
    "kernelspec": {
      "name": "python3",
      "display_name": "Python 3"
    },
    "accelerator": "GPU"
  },
  "nbformat": 4,
  "nbformat_minor": 0
}