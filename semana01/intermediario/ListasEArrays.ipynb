{
  "nbformat": 4,
  "nbformat_minor": 0,
  "metadata": {
    "colab": {
      "name": "ListasEArrays.ipynb",
      "provenance": [],
      "private_outputs": true,
      "collapsed_sections": []
    },
    "kernelspec": {
      "name": "python3",
      "display_name": "Python 3"
    },
    "accelerator": "GPU"
  },
  "cells": [
    {
      "cell_type": "markdown",
      "metadata": {
        "id": "MkeMvJ5qMEiX",
        "colab_type": "text"
      },
      "source": [
        "# **Listas e Arrays**\n",
        "\n",
        "---\n",
        "\n"
      ]
    },
    {
      "cell_type": "code",
      "metadata": {
        "id": "9G1gxqu_Qpio",
        "colab_type": "code",
        "colab": {}
      },
      "source": [
        "livros = [\"Data Science em 12 Semanas\", \"Startup Enxuta\", \"Desperte seu Gigante Interior\"]\n",
        "print(type(livros))"
      ],
      "execution_count": 0,
      "outputs": []
    },
    {
      "cell_type": "code",
      "metadata": {
        "id": "LsAICXmGO7FG",
        "colab_type": "code",
        "colab": {}
      },
      "source": [
        "# SLICING/FATIAMENTO\n",
        "print(livros[0])"
      ],
      "execution_count": 0,
      "outputs": []
    },
    {
      "cell_type": "code",
      "metadata": {
        "id": "fVCEaRhGPZr7",
        "colab_type": "code",
        "colab": {}
      },
      "source": [
        "# Método append\n",
        "livros.append(\"Pé na Estrada\")\n",
        "print(livros)"
      ],
      "execution_count": 0,
      "outputs": []
    },
    {
      "cell_type": "code",
      "metadata": {
        "id": "MfumLowwOczG",
        "colab_type": "code",
        "colab": {}
      },
      "source": [
        "# Função count() conta o número de aparições do elemento na lista\n",
        "x = [1,2,3,4,5,6,7,8,9,10,10,10]\n",
        "print(x.count(10))"
      ],
      "execution_count": 0,
      "outputs": []
    },
    {
      "cell_type": "code",
      "metadata": {
        "id": "0ptMwQ39Ooqc",
        "colab_type": "code",
        "colab": {}
      },
      "source": [
        "# Função index() retorna o índice do elemento inserido\n",
        "x.index(5)"
      ],
      "execution_count": 0,
      "outputs": []
    },
    {
      "cell_type": "code",
      "metadata": {
        "id": "X_UltUt5OrJy",
        "colab_type": "code",
        "colab": {}
      },
      "source": [
        "# Função len() retorna o comprimento do objeto\n",
        "print(len(x))"
      ],
      "execution_count": 0,
      "outputs": []
    },
    {
      "cell_type": "code",
      "metadata": {
        "id": "vyWOZjZAOs0N",
        "colab_type": "code",
        "colab": {}
      },
      "source": [
        "# Função max() retorna o valor máximo da lista\n",
        "print(max(x))"
      ],
      "execution_count": 0,
      "outputs": []
    },
    {
      "cell_type": "code",
      "metadata": {
        "id": "muNqmtj2Ot9H",
        "colab_type": "code",
        "colab": {}
      },
      "source": [
        "# Função min() retorna o valor mínimo na lista\n",
        "print(min(x))"
      ],
      "execution_count": 0,
      "outputs": []
    },
    {
      "cell_type": "code",
      "metadata": {
        "id": "F7Insj0MPK9e",
        "colab_type": "code",
        "colab": {}
      },
      "source": [
        "# Função extend() extende a lista com novos valores adicionados\n",
        "x.extend([11])\n",
        "print(x)"
      ],
      "execution_count": 0,
      "outputs": []
    },
    {
      "cell_type": "code",
      "metadata": {
        "id": "hBP2AKvUQFyO",
        "colab_type": "code",
        "colab": {}
      },
      "source": [
        "# Função remove() retira o elemento apresentado da lista\n",
        "x.remove(11)\n",
        "print(x)"
      ],
      "execution_count": 0,
      "outputs": []
    },
    {
      "cell_type": "code",
      "metadata": {
        "id": "prNc3tEZNWcp",
        "colab_type": "code",
        "colab": {}
      },
      "source": [
        "# Alterando um Elemento da lista\n",
        "livros[3] = \"Data Science Para Leigos\"\n",
        "print(livros)"
      ],
      "execution_count": 0,
      "outputs": []
    },
    {
      "cell_type": "code",
      "metadata": {
        "id": "qQMmMQZsNoaT",
        "colab_type": "code",
        "colab": {}
      },
      "source": [
        "# Removendo um elemento da lista\n",
        "print(f\"Antes de deletar temos: {livros}\")\n",
        "del livros[3]\n",
        "print(f\"Após deletar, temos: {livros}\")"
      ],
      "execution_count": 0,
      "outputs": []
    },
    {
      "cell_type": "markdown",
      "metadata": {
        "id": "lIguStXEEUpo",
        "colab_type": "text"
      },
      "source": [
        "## **>>> Geralmente utilizamos a biblioteca numpy para lidar com arrays por conta da escassez built-in de python para tratamento de tal tipo.**"
      ]
    },
    {
      "cell_type": "code",
      "metadata": {
        "id": "XcmJZczfHPOv",
        "colab_type": "code",
        "colab": {}
      },
      "source": [
        "# Array armazena float/int em uma lista de valores\n",
        "inteiros = [1,2,3,4,5]\n",
        "print(inteiros)"
      ],
      "execution_count": 0,
      "outputs": []
    },
    {
      "cell_type": "code",
      "metadata": {
        "id": "2xtUw300O1Q9",
        "colab_type": "code",
        "colab": {}
      },
      "source": [
        "# SLICING/FATIAMENTO\n",
        "print(inteiros[0])"
      ],
      "execution_count": 0,
      "outputs": []
    },
    {
      "cell_type": "code",
      "metadata": {
        "id": "H5mY8cTyPkDf",
        "colab_type": "code",
        "colab": {}
      },
      "source": [
        "dir(list)"
      ],
      "execution_count": 0,
      "outputs": []
    },
    {
      "cell_type": "code",
      "metadata": {
        "id": "nzwshOHpPo0z",
        "colab_type": "code",
        "colab": {}
      },
      "source": [
        "help(list)"
      ],
      "execution_count": 0,
      "outputs": []
    },
    {
      "cell_type": "markdown",
      "metadata": {
        "id": "zuNUy4n8R7K-",
        "colab_type": "text"
      },
      "source": [
        "## **>>> Exercícios**\n",
        "\n",
        "---"
      ]
    },
    {
      "cell_type": "markdown",
      "metadata": {
        "id": "KB6SkohbExw4",
        "colab_type": "text"
      },
      "source": [
        "1.   Crie uma lista vazia. Receba de um input do usuário 3 números e os adicione em sua lista. Printe por fim sua lista; (fácil)"
      ]
    },
    {
      "cell_type": "code",
      "metadata": {
        "id": "s7GVU91gEx6l",
        "colab_type": "code",
        "colab": {}
      },
      "source": [
        "# Insira seu código aqui"
      ],
      "execution_count": 0,
      "outputs": []
    },
    {
      "cell_type": "markdown",
      "metadata": {
        "id": "8EYDvLp-EyD_",
        "colab_type": "text"
      },
      "source": [
        "2.   Com a lista dos números, ordene-os com algum método listado em dir(list); (médio)"
      ]
    },
    {
      "cell_type": "code",
      "metadata": {
        "id": "_mxc4kd2EyLL",
        "colab_type": "code",
        "colab": {}
      },
      "source": [
        "# Insira seu código aqui"
      ],
      "execution_count": 0,
      "outputs": []
    },
    {
      "cell_type": "markdown",
      "metadata": {
        "id": "ic1M67gQEyTB",
        "colab_type": "text"
      },
      "source": [
        "3.   Crie uma lista vazia. Receba do usuário, através de inputs, 3 palavras. Apresente-as em ordem alfabética inversa(de Z à A); (difícil)"
      ]
    },
    {
      "cell_type": "code",
      "metadata": {
        "id": "2mS-KFTZEybg",
        "colab_type": "code",
        "colab": {}
      },
      "source": [
        "# Insira seu código aqui"
      ],
      "execution_count": 0,
      "outputs": []
    },
    {
      "cell_type": "markdown",
      "metadata": {
        "id": "IRqU0-HGEyk5",
        "colab_type": "text"
      },
      "source": [
        "## **>>> Solução**"
      ]
    },
    {
      "cell_type": "code",
      "metadata": {
        "id": "aZbP_agrE4Sh",
        "colab_type": "code",
        "colab": {}
      },
      "source": [
        "# Exercício 1\n",
        "x = []\n",
        "n1 = int(input(\"Digite um número inteiro: \"))\n",
        "x.append(n1)\n",
        "n2 = int(input(\"Outro número inteiro, por favor: \"))\n",
        "x.append(n2)\n",
        "n3 = int(input(\"Ok, este é o último: \"))\n",
        "x.append(n3)\n",
        "print(x)"
      ],
      "execution_count": 0,
      "outputs": []
    },
    {
      "cell_type": "code",
      "metadata": {
        "id": "n__rOJ3aE4ex",
        "colab_type": "code",
        "colab": {}
      },
      "source": [
        "# Exercício 2\n",
        "print(f\"Os números, em ordem crescente são: {sorted(x)}\")"
      ],
      "execution_count": 0,
      "outputs": []
    },
    {
      "cell_type": "code",
      "metadata": {
        "id": "fPJIuDJqE4qD",
        "colab_type": "code",
        "colab": {}
      },
      "source": [
        "# Exercício 3\n",
        "y = []\n",
        "a1 = input(\"Qual seu nome? \")\n",
        "y.append(a1)\n",
        "a2 = input(\"Qual sua cor favorita? \")\n",
        "y.append(a2)\n",
        "a3 = input(\"Qual sua música favorita? \")\n",
        "y.append(a3)\n",
        "y = sorted(y)\n",
        "for elemento in reversed(y):\n",
        "  print(elemento)"
      ],
      "execution_count": 0,
      "outputs": []
    },
    {
      "cell_type": "markdown",
      "metadata": {
        "id": "jOLDB9C3Rtsq",
        "colab_type": "text"
      },
      "source": [
        "# **Obrigado!**\n",
        "\n",
        "---\n"
      ]
    }
  ]
}