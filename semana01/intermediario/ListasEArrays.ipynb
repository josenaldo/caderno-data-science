{
 "cells": [
  {
   "cell_type": "markdown",
   "metadata": {
    "colab_type": "text",
    "id": "MkeMvJ5qMEiX"
   },
   "source": [
    "# **Listas e Arrays**\n",
    "\n",
    "---\n",
    "\n"
   ]
  },
  {
   "cell_type": "code",
   "execution_count": null,
   "metadata": {
    "colab": {},
    "colab_type": "code",
    "id": "9G1gxqu_Qpio"
   },
   "outputs": [],
   "source": [
    "livros = [\"Data Science em 12 Semanas\", \"Startup Enxuta\", \"Desperte seu Gigante Interior\"]\n",
    "print(type(livros))"
   ]
  },
  {
   "cell_type": "code",
   "execution_count": null,
   "metadata": {
    "colab": {},
    "colab_type": "code",
    "id": "LsAICXmGO7FG"
   },
   "outputs": [],
   "source": [
    "# SLICING/FATIAMENTO\n",
    "print(livros[0])"
   ]
  },
  {
   "cell_type": "code",
   "execution_count": null,
   "metadata": {
    "colab": {},
    "colab_type": "code",
    "id": "fVCEaRhGPZr7"
   },
   "outputs": [],
   "source": [
    "# Método append\n",
    "livros.append(\"Pé na Estrada\")\n",
    "print(livros)"
   ]
  },
  {
   "cell_type": "code",
   "execution_count": null,
   "metadata": {
    "colab": {},
    "colab_type": "code",
    "id": "MfumLowwOczG"
   },
   "outputs": [],
   "source": [
    "# Função count() conta o número de aparições do elemento na lista\n",
    "x = [1,2,3,4,5,6,7,8,9,10,10,10]\n",
    "print(x.count(10))"
   ]
  },
  {
   "cell_type": "code",
   "execution_count": null,
   "metadata": {
    "colab": {},
    "colab_type": "code",
    "id": "0ptMwQ39Ooqc"
   },
   "outputs": [],
   "source": [
    "# Função index() retorna o índice do elemento inserido\n",
    "x.index(5)"
   ]
  },
  {
   "cell_type": "code",
   "execution_count": null,
   "metadata": {
    "colab": {},
    "colab_type": "code",
    "id": "X_UltUt5OrJy"
   },
   "outputs": [],
   "source": [
    "# Função len() retorna o comprimento do objeto\n",
    "print(len(x))"
   ]
  },
  {
   "cell_type": "code",
   "execution_count": null,
   "metadata": {
    "colab": {},
    "colab_type": "code",
    "id": "vyWOZjZAOs0N"
   },
   "outputs": [],
   "source": [
    "# Função max() retorna o valor máximo da lista\n",
    "print(max(x))"
   ]
  },
  {
   "cell_type": "code",
   "execution_count": null,
   "metadata": {
    "colab": {},
    "colab_type": "code",
    "id": "muNqmtj2Ot9H"
   },
   "outputs": [],
   "source": [
    "# Função min() retorna o valor mínimo na lista\n",
    "print(min(x))"
   ]
  },
  {
   "cell_type": "code",
   "execution_count": null,
   "metadata": {
    "colab": {},
    "colab_type": "code",
    "id": "F7Insj0MPK9e"
   },
   "outputs": [],
   "source": [
    "# Função extend() extende a lista com novos valores adicionados\n",
    "x.extend([11])\n",
    "print(x)"
   ]
  },
  {
   "cell_type": "code",
   "execution_count": null,
   "metadata": {
    "colab": {},
    "colab_type": "code",
    "id": "hBP2AKvUQFyO"
   },
   "outputs": [],
   "source": [
    "# Função remove() retira o elemento apresentado da lista\n",
    "x.remove(11)\n",
    "print(x)"
   ]
  },
  {
   "cell_type": "code",
   "execution_count": null,
   "metadata": {
    "colab": {},
    "colab_type": "code",
    "id": "prNc3tEZNWcp"
   },
   "outputs": [],
   "source": [
    "# Alterando um Elemento da lista\n",
    "livros[3] = \"Data Science Para Leigos\"\n",
    "print(livros)"
   ]
  },
  {
   "cell_type": "code",
   "execution_count": null,
   "metadata": {
    "colab": {},
    "colab_type": "code",
    "id": "qQMmMQZsNoaT"
   },
   "outputs": [],
   "source": [
    "# Removendo um elemento da lista\n",
    "print(f\"Antes de deletar temos: {livros}\")\n",
    "del livros[3]\n",
    "print(f\"Após deletar, temos: {livros}\")"
   ]
  },
  {
   "cell_type": "markdown",
   "metadata": {
    "colab_type": "text",
    "id": "lIguStXEEUpo"
   },
   "source": [
    "## **>>> Geralmente utilizamos a biblioteca numpy para lidar com arrays por conta da escassez built-in de python para tratamento de tal tipo.**"
   ]
  },
  {
   "cell_type": "code",
   "execution_count": null,
   "metadata": {
    "colab": {},
    "colab_type": "code",
    "id": "XcmJZczfHPOv"
   },
   "outputs": [],
   "source": [
    "# Array armazena float/int em uma lista de valores\n",
    "inteiros = [1,2,3,4,5]\n",
    "print(inteiros)"
   ]
  },
  {
   "cell_type": "code",
   "execution_count": null,
   "metadata": {
    "colab": {},
    "colab_type": "code",
    "id": "2xtUw300O1Q9"
   },
   "outputs": [],
   "source": [
    "# SLICING/FATIAMENTO\n",
    "print(inteiros[0])"
   ]
  },
  {
   "cell_type": "code",
   "execution_count": null,
   "metadata": {
    "colab": {},
    "colab_type": "code",
    "id": "H5mY8cTyPkDf"
   },
   "outputs": [],
   "source": [
    "dir(list)"
   ]
  },
  {
   "cell_type": "code",
   "execution_count": 1,
   "metadata": {
    "colab": {},
    "colab_type": "code",
    "id": "nzwshOHpPo0z"
   },
   "outputs": [
    {
     "name": "stdout",
     "output_type": "stream",
     "text": [
      "Help on class list in module builtins:\n",
      "\n",
      "class list(object)\n",
      " |  list(iterable=(), /)\n",
      " |  \n",
      " |  Built-in mutable sequence.\n",
      " |  \n",
      " |  If no argument is given, the constructor creates a new empty list.\n",
      " |  The argument must be an iterable if specified.\n",
      " |  \n",
      " |  Methods defined here:\n",
      " |  \n",
      " |  __add__(self, value, /)\n",
      " |      Return self+value.\n",
      " |  \n",
      " |  __contains__(self, key, /)\n",
      " |      Return key in self.\n",
      " |  \n",
      " |  __delitem__(self, key, /)\n",
      " |      Delete self[key].\n",
      " |  \n",
      " |  __eq__(self, value, /)\n",
      " |      Return self==value.\n",
      " |  \n",
      " |  __ge__(self, value, /)\n",
      " |      Return self>=value.\n",
      " |  \n",
      " |  __getattribute__(self, name, /)\n",
      " |      Return getattr(self, name).\n",
      " |  \n",
      " |  __getitem__(...)\n",
      " |      x.__getitem__(y) <==> x[y]\n",
      " |  \n",
      " |  __gt__(self, value, /)\n",
      " |      Return self>value.\n",
      " |  \n",
      " |  __iadd__(self, value, /)\n",
      " |      Implement self+=value.\n",
      " |  \n",
      " |  __imul__(self, value, /)\n",
      " |      Implement self*=value.\n",
      " |  \n",
      " |  __init__(self, /, *args, **kwargs)\n",
      " |      Initialize self.  See help(type(self)) for accurate signature.\n",
      " |  \n",
      " |  __iter__(self, /)\n",
      " |      Implement iter(self).\n",
      " |  \n",
      " |  __le__(self, value, /)\n",
      " |      Return self<=value.\n",
      " |  \n",
      " |  __len__(self, /)\n",
      " |      Return len(self).\n",
      " |  \n",
      " |  __lt__(self, value, /)\n",
      " |      Return self<value.\n",
      " |  \n",
      " |  __mul__(self, value, /)\n",
      " |      Return self*value.\n",
      " |  \n",
      " |  __ne__(self, value, /)\n",
      " |      Return self!=value.\n",
      " |  \n",
      " |  __repr__(self, /)\n",
      " |      Return repr(self).\n",
      " |  \n",
      " |  __reversed__(self, /)\n",
      " |      Return a reverse iterator over the list.\n",
      " |  \n",
      " |  __rmul__(self, value, /)\n",
      " |      Return value*self.\n",
      " |  \n",
      " |  __setitem__(self, key, value, /)\n",
      " |      Set self[key] to value.\n",
      " |  \n",
      " |  __sizeof__(self, /)\n",
      " |      Return the size of the list in memory, in bytes.\n",
      " |  \n",
      " |  append(self, object, /)\n",
      " |      Append object to the end of the list.\n",
      " |  \n",
      " |  clear(self, /)\n",
      " |      Remove all items from list.\n",
      " |  \n",
      " |  copy(self, /)\n",
      " |      Return a shallow copy of the list.\n",
      " |  \n",
      " |  count(self, value, /)\n",
      " |      Return number of occurrences of value.\n",
      " |  \n",
      " |  extend(self, iterable, /)\n",
      " |      Extend list by appending elements from the iterable.\n",
      " |  \n",
      " |  index(self, value, start=0, stop=9223372036854775807, /)\n",
      " |      Return first index of value.\n",
      " |      \n",
      " |      Raises ValueError if the value is not present.\n",
      " |  \n",
      " |  insert(self, index, object, /)\n",
      " |      Insert object before index.\n",
      " |  \n",
      " |  pop(self, index=-1, /)\n",
      " |      Remove and return item at index (default last).\n",
      " |      \n",
      " |      Raises IndexError if list is empty or index is out of range.\n",
      " |  \n",
      " |  remove(self, value, /)\n",
      " |      Remove first occurrence of value.\n",
      " |      \n",
      " |      Raises ValueError if the value is not present.\n",
      " |  \n",
      " |  reverse(self, /)\n",
      " |      Reverse *IN PLACE*.\n",
      " |  \n",
      " |  sort(self, /, *, key=None, reverse=False)\n",
      " |      Stable sort *IN PLACE*.\n",
      " |  \n",
      " |  ----------------------------------------------------------------------\n",
      " |  Static methods defined here:\n",
      " |  \n",
      " |  __new__(*args, **kwargs) from builtins.type\n",
      " |      Create and return a new object.  See help(type) for accurate signature.\n",
      " |  \n",
      " |  ----------------------------------------------------------------------\n",
      " |  Data and other attributes defined here:\n",
      " |  \n",
      " |  __hash__ = None\n",
      "\n"
     ]
    }
   ],
   "source": [
    "help(list)"
   ]
  },
  {
   "cell_type": "markdown",
   "metadata": {
    "colab_type": "text",
    "id": "zuNUy4n8R7K-"
   },
   "source": [
    "## **>>> Exercícios**\n",
    "\n",
    "---"
   ]
  },
  {
   "cell_type": "markdown",
   "metadata": {
    "colab_type": "text",
    "id": "KB6SkohbExw4"
   },
   "source": [
    "1.   Crie uma lista vazia. Receba de um input do usuário 3 números e os adicione em sua lista. Printe por fim sua lista; (fácil)"
   ]
  },
  {
   "cell_type": "code",
   "execution_count": 6,
   "metadata": {
    "colab": {},
    "colab_type": "code",
    "id": "s7GVU91gEx6l"
   },
   "outputs": [
    {
     "output_type": "stream",
     "name": "stdout",
     "text": "[54, 18, 22]\n"
    }
   ],
   "source": [
    "lista = []\n",
    "\n",
    "num1 = int(input(\"Informe o número 1: \"))\n",
    "num2 = int(input(\"Informe o número 2: \"))\n",
    "num3 = int(input(\"Informe o número 3: \"))\n",
    "\n",
    "lista.append(num1)\n",
    "lista.append(num2)\n",
    "lista.append(num3)\n",
    "\n",
    "print(lista)\n",
    "\n"
   ]
  },
  {
   "cell_type": "markdown",
   "metadata": {
    "colab_type": "text",
    "id": "8EYDvLp-EyD_"
   },
   "source": [
    "2.   Com a lista dos números, ordene-os com algum método listado em dir(list); (médio)"
   ]
  },
  {
   "cell_type": "code",
   "execution_count": 7,
   "metadata": {
    "colab": {},
    "colab_type": "code",
    "id": "_mxc4kd2EyLL"
   },
   "outputs": [
    {
     "output_type": "stream",
     "name": "stdout",
     "text": "[18, 22, 54]\n"
    }
   ],
   "source": [
    "lista.sort()\n",
    "\n",
    "print(lista)\n",
    "\n"
   ]
  },
  {
   "cell_type": "markdown",
   "metadata": {
    "colab_type": "text",
    "id": "ic1M67gQEyTB"
   },
   "source": [
    "3.   Crie uma lista vazia. Receba do usuário, através de inputs, 3 palavras. Apresente-as em ordem alfabética inversa(de Z à A); (difícil)"
   ]
  },
  {
   "cell_type": "code",
   "execution_count": 9,
   "metadata": {
    "colab": {},
    "colab_type": "code",
    "id": "2mS-KFTZEybg"
   },
   "outputs": [
    {
     "output_type": "stream",
     "name": "stdout",
     "text": "Palavras SEM ordenação\n['camelo', 'vaca', 'urubu']\nPalavras COM ordenação\n['vaca', 'urubu', 'camelo']\n"
    }
   ],
   "source": [
    "palavras = []\n",
    "\n",
    "palavra = input(\"Fala uma coisa aí, corno: \")\n",
    "palavras.append(palavra)\n",
    "\n",
    "palavra = input(\"Fala uma coisa aí, corno: \")\n",
    "palavras.append(palavra)\n",
    "\n",
    "palavra = input(\"Fala uma coisa aí, corno: \")\n",
    "palavras.append(palavra)\n",
    "\n",
    "print(\"Palavras SEM ordenação\")\n",
    "print(palavras)\n",
    "\n",
    "palavras.sort()\n",
    "print(\"Palavras COM ordenação\")\n",
    "print(palavras[::-1])"
   ]
  },
  {
   "cell_type": "markdown",
   "metadata": {
    "colab_type": "text",
    "id": "IRqU0-HGEyk5"
   },
   "source": [
    "## **>>> Solução**"
   ]
  },
  {
   "cell_type": "code",
   "execution_count": null,
   "metadata": {
    "colab": {},
    "colab_type": "code",
    "id": "aZbP_agrE4Sh"
   },
   "outputs": [],
   "source": [
    "# Exercício 1\n",
    "x = []\n",
    "n1 = int(input(\"Digite um número inteiro: \"))\n",
    "x.append(n1)\n",
    "n2 = int(input(\"Outro número inteiro, por favor: \"))\n",
    "x.append(n2)\n",
    "n3 = int(input(\"Ok, este é o último: \"))\n",
    "x.append(n3)\n",
    "print(x)"
   ]
  },
  {
   "cell_type": "code",
   "execution_count": null,
   "metadata": {
    "colab": {},
    "colab_type": "code",
    "id": "n__rOJ3aE4ex"
   },
   "outputs": [],
   "source": [
    "# Exercício 2\n",
    "print(f\"Os números, em ordem crescente são: {sorted(x)}\")"
   ]
  },
  {
   "cell_type": "code",
   "execution_count": null,
   "metadata": {
    "colab": {},
    "colab_type": "code",
    "id": "fPJIuDJqE4qD"
   },
   "outputs": [],
   "source": [
    "# Exercício 3\n",
    "y = []\n",
    "a1 = input(\"Qual seu nome? \")\n",
    "y.append(a1)\n",
    "a2 = input(\"Qual sua cor favorita? \")\n",
    "y.append(a2)\n",
    "a3 = input(\"Qual sua música favorita? \")\n",
    "y.append(a3)\n",
    "y = sorted(y)\n",
    "for elemento in reversed(y):\n",
    "  print(elemento)"
   ]
  },
  {
   "cell_type": "markdown",
   "metadata": {
    "colab_type": "text",
    "id": "jOLDB9C3Rtsq"
   },
   "source": [
    "# **Obrigado!**\n",
    "\n",
    "---\n"
   ]
  },
  {
   "cell_type": "code",
   "execution_count": 10,
   "metadata": {},
   "outputs": [
    {
     "output_type": "stream",
     "name": "stdout",
     "text": "Help on built-in function sorted in module builtins:\n\nsorted(iterable, /, *, key=None, reverse=False)\n    Return a new list containing all items from the iterable in ascending order.\n    \n    A custom key function can be supplied to customize the sort order, and the\n    reverse flag can be set to request the result in descending order.\n\n"
    }
   ],
   "source": [
    "help(sorted)"
   ]
  },
  {
   "cell_type": "code",
   "execution_count": 11,
   "metadata": {},
   "outputs": [
    {
     "output_type": "stream",
     "name": "stdout",
     "text": "Help on class reversed in module builtins:\n\nclass reversed(object)\n |  reversed(sequence, /)\n |  \n |  Return a reverse iterator over the values of the given sequence.\n |  \n |  Methods defined here:\n |  \n |  __getattribute__(self, name, /)\n |      Return getattr(self, name).\n |  \n |  __iter__(self, /)\n |      Implement iter(self).\n |  \n |  __length_hint__(...)\n |      Private method returning an estimate of len(list(it)).\n |  \n |  __next__(self, /)\n |      Implement next(self).\n |  \n |  __reduce__(...)\n |      Return state information for pickling.\n |  \n |  __setstate__(...)\n |      Set state information for unpickling.\n |  \n |  ----------------------------------------------------------------------\n |  Static methods defined here:\n |  \n |  __new__(*args, **kwargs) from builtins.type\n |      Create and return a new object.  See help(type) for accurate signature.\n\n"
    }
   ],
   "source": [
    "help(reversed)"
   ]
  }
 ],
 "metadata": {
  "accelerator": "GPU",
  "colab": {
   "collapsed_sections": [],
   "name": "ListasEArrays.ipynb",
   "private_outputs": true,
   "provenance": []
  },
  "kernelspec": {
   "display_name": "Python 3",
   "language": "python",
   "name": "python3"
  },
  "language_info": {
   "codemirror_mode": {
    "name": "ipython",
    "version": 3
   },
   "file_extension": ".py",
   "mimetype": "text/x-python",
   "name": "python",
   "nbconvert_exporter": "python",
   "pygments_lexer": "ipython3",
   "version": "3.7.6-final"
  }
 },
 "nbformat": 4,
 "nbformat_minor": 4
}