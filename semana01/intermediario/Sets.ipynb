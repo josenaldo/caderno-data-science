{
  "cells": [
    {
      "cell_type": "markdown",
      "metadata": {
        "id": "vBnZVaoPc4Ns",
        "colab_type": "text"
      },
      "source": [
        "# **Sets(conjuntos**)\n",
        "\n",
        "---\n",
        "\n",
        "Tipo de dado iterável, imutável e sem elementos duplicados. Chamado de conjunto por possuir a mesma notação matemática dos conjuntos."
      ]
    },
    {
      "cell_type": "code",
      "metadata": {
        "id": "j4SvN6wxc2N7",
        "colab_type": "code",
        "colab": {}
      },
      "source": [
        "x = {1,2,3,4,5}\n",
        "print(type(x))"
      ],
      "execution_count": 0,
      "outputs": []
    },
    {
      "cell_type": "code",
      "metadata": {
        "id": "hnaslYw9ds63",
        "colab_type": "code",
        "colab": {}
      },
      "source": [
        "# Método add()\n",
        "x.add(6)\n",
        "print(x)"
      ],
      "execution_count": 0,
      "outputs": []
    },
    {
      "cell_type": "code",
      "metadata": {
        "id": "T9Dv-ag3d3N8",
        "colab_type": "code",
        "colab": {}
      },
      "source": [
        "# Método union()\n",
        "y = {\"um\",\"dois\",\"três\",\"quatro\",\"cinco\"}\n",
        "z = y.union(x)\n",
        "print(z)\n",
        "\n",
        "# ou use \"|\"\n",
        "z = y|x\n",
        "print(z)\n"
      ],
      "execution_count": 0,
      "outputs": []
    },
    {
      "cell_type": "code",
      "metadata": {
        "id": "439K-ohFeolI",
        "colab_type": "code",
        "colab": {}
      },
      "source": [
        "# Método difference() retorna a diferença entre as variáveis\n",
        "z = x.difference(y)\n",
        "print(z)\n",
        "\n",
        "# Possível também subtrair e chegar ao mesmo resultado\n",
        "z = x - y\n",
        "print(z)"
      ],
      "execution_count": 0,
      "outputs": []
    },
    {
      "cell_type": "code",
      "metadata": {
        "id": "AcoXSyXRfYtk",
        "colab_type": "code",
        "colab": {}
      },
      "source": [
        "dir(set)"
      ],
      "execution_count": 0,
      "outputs": []
    },
    {
      "cell_type": "code",
      "metadata": {
        "id": "9DB8ZjdIfbNi",
        "colab_type": "code",
        "colab": {}
      },
      "source": [
        "help(set)"
      ],
      "execution_count": 0,
      "outputs": []
    },
    {
      "cell_type": "markdown",
      "metadata": {
        "id": "X75qvtXndSNS",
        "colab_type": "text"
      },
      "source": [
        "# **Frozen Set**\n",
        "\n",
        "---\n",
        "\n",
        "\"Conjuntos congelados\" são objetos imutáveis que suportam métodos/operadores que não alterem os conjuntos a qual são aplicados."
      ]
    },
    {
      "cell_type": "code",
      "metadata": {
        "id": "ed4hD6Tmdf6U",
        "colab_type": "code",
        "colab": {}
      },
      "source": [
        "frozen = frozenset([\"a\",\"b\",\"c\"])\n",
        "print(frozen)"
      ],
      "execution_count": 0,
      "outputs": []
    },
    {
      "cell_type": "code",
      "metadata": {
        "id": "Q4jSwTH7K2k-",
        "colab_type": "code",
        "colab": {}
      },
      "source": [
        "dir(frozenset)"
      ],
      "execution_count": 0,
      "outputs": []
    },
    {
      "cell_type": "markdown",
      "metadata": {
        "id": "mFnVUCc1IOH5",
        "colab_type": "text"
      },
      "source": [
        "# **Exercícios**\n",
        "\n",
        "---\n",
        "\n"
      ]
    },
    {
      "cell_type": "markdown",
      "metadata": {
        "id": "nDOHaF0qIRsI",
        "colab_type": "text"
      },
      "source": [
        "1. Crie um algoritmo que pede ao usuário para digitar 3 números, diferentes entre sí, um de cada vez. A cada input do usuário insira o input dentro de um set e ao término printe na tela o output de seu set."
      ]
    },
    {
      "cell_type": "code",
      "metadata": {
        "id": "HzRpBg-BISAL",
        "colab_type": "code",
        "colab": {}
      },
      "source": [
        "# Exercício 1\n",
        "conjunto = set()\n",
        "n = 0\n",
        "\n",
        "while(n < 3):\n",
        "    entrada = int(input(\"Informe um número: \"))\n",
        "    if(entrada not in conjunto):\n",
        "        conjunto.add(entrada)\n",
        "        n =n + 1\n",
        "    else:\n",
        "        print(\"O número informado já existe no conjunto. Informe outro.\")\n",
        "\n",
        "print(conjunto)"
      ],
      "execution_count": 3,
      "outputs": [
        {
          "output_type": "stream",
          "name": "stdout",
          "text": "O número informado já existe no conjunto. Informe outro.\nO número informado já existe no conjunto. Informe outro.\nO número informado já existe no conjunto. Informe outro.\nO número informado já existe no conjunto. Informe outro.\nO número informado já existe no conjunto. Informe outro.\n{1, 2, 4}\n"
        }
      ]
    },
    {
      "cell_type": "markdown",
      "metadata": {
        "id": "kVNxS2-fISLy",
        "colab_type": "text"
      },
      "source": [
        "2. Crie um algoritmo que receba 3 números como input do usuário e a seguir adicione-o dentro de um frozenset. Ao término, aplique algum atributo frozenset e printe na tela. Utilize dir(frozenset) para selecionar o atributo."
      ]
    },
    {
      "cell_type": "code",
      "metadata": {
        "id": "1obgfpnPISUk",
        "colab_type": "code",
        "colab": {}
      },
      "source": [
        "# Exercício 2\n",
        "a = int(input(\"Informe um número: \"))\n",
        "b = int(input(\"Informe um número: \"))\n",
        "c = int(input(\"Informe um número: \"))\n",
        "\n",
        "assert (a != b and b != c and a != c), \"Os números devem ser diferentes entre si\"\n",
        "\n",
        "elsa = frozenset([a, b, c])\n",
        "ana = frozenset([1, 2, 3])\n",
        "\n",
        "print(elsa.difference(ana))\n"
      ],
      "execution_count": 9,
      "outputs": [
        {
          "output_type": "stream",
          "name": "stdout",
          "text": "frozenset({4, 5})\n"
        }
      ]
    }
  ],
  "metadata": {
    "colab": {
      "name": "Sets.ipynb",
      "provenance": [],
      "private_outputs": true,
      "collapsed_sections": []
    },
    "kernelspec": {
      "name": "python3",
      "display_name": "Python 3"
    },
    "accelerator": "GPU"
  },
  "nbformat": 4,
  "nbformat_minor": 0
}