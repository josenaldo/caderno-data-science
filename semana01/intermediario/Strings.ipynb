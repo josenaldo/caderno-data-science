{
 "cells": [
  {
   "cell_type": "markdown",
   "metadata": {
    "colab_type": "text",
    "id": "gzUHH1OTLuGr"
   },
   "source": [
    "# **Strings**\n",
    "---"
   ]
  },
  {
   "cell_type": "code",
   "execution_count": 1,
   "metadata": {
    "colab": {},
    "colab_type": "code",
    "id": "LUUxHuzQQhar"
   },
   "outputs": [
    {
     "name": "stdout",
     "output_type": "stream",
     "text": [
      "<class 'str'>\n"
     ]
    }
   ],
   "source": [
    "nome = \"Weber\"\n",
    "print(type(nome))"
   ]
  },
  {
   "cell_type": "code",
   "execution_count": 2,
   "metadata": {
    "colab": {},
    "colab_type": "code",
    "id": "E7tm5rJ0qTm9"
   },
   "outputs": [
    {
     "name": "stdout",
     "output_type": "stream",
     "text": [
      "Oi, eu sou o Weber\n"
     ]
    }
   ],
   "source": [
    "# F STRING\n",
    "print(f\"Oi, eu sou o {nome}\")"
   ]
  },
  {
   "cell_type": "code",
   "execution_count": null,
   "metadata": {
    "colab": {},
    "colab_type": "code",
    "id": "t2K-6OsTGnow"
   },
   "outputs": [],
   "source": [
    "# Formatando com F STRING\n",
    "x = 1.61803399\n",
    "print(f\"O número de ouro é {x:.2f}\")"
   ]
  },
  {
   "cell_type": "code",
   "execution_count": null,
   "metadata": {
    "colab": {},
    "colab_type": "code",
    "id": "McHdCpQWGVO0"
   },
   "outputs": [],
   "source": [
    "# CONCATENAÇÃO \n",
    "a = \"chat\"\n",
    "b = \"bot\"\n",
    "print(a+b)"
   ]
  },
  {
   "cell_type": "code",
   "execution_count": null,
   "metadata": {
    "colab": {},
    "colab_type": "code",
    "id": "UMrohbY7GVX4"
   },
   "outputs": [],
   "source": [
    "# ATRIBUIÇÃO DE NOVAS STRINGS\n",
    "c = \"ro\"\n",
    "print(c+b)"
   ]
  },
  {
   "cell_type": "code",
   "execution_count": null,
   "metadata": {
    "colab": {},
    "colab_type": "code",
    "id": "1VeljxxXGVjJ"
   },
   "outputs": [],
   "source": [
    "# SLICING/FATIAMENTO\n",
    "frase = \"Esta é uma string\"\n",
    "print(frase[0])"
   ]
  },
  {
   "cell_type": "code",
   "execution_count": null,
   "metadata": {
    "colab": {},
    "colab_type": "code",
    "id": "nvxR0Ue-ICak"
   },
   "outputs": [],
   "source": [
    "# string[começo:fim:passos]\n",
    "print(frase[::2])"
   ]
  },
  {
   "cell_type": "code",
   "execution_count": null,
   "metadata": {
    "colab": {},
    "colab_type": "code",
    "id": "yHG9XYX3Gbce"
   },
   "outputs": [],
   "source": [
    "# ATRIBUTOS DO OBJETO str (https://docs.python.org/3/contents.html)\n",
    "dir(str)"
   ]
  },
  {
   "cell_type": "code",
   "execution_count": null,
   "metadata": {
    "colab": {},
    "colab_type": "code",
    "id": "3MwhxK_7LQo9"
   },
   "outputs": [],
   "source": [
    "# Help!\n",
    "help(str)"
   ]
  },
  {
   "cell_type": "markdown",
   "metadata": {
    "colab_type": "text",
    "id": "5291NxTLIg_O"
   },
   "source": [
    "# **>>> Exercícios**\n",
    "---\n",
    "\n",
    "\n",
    "\n"
   ]
  },
  {
   "cell_type": "markdown",
   "metadata": {
    "colab_type": "text",
    "id": "MN7Xn9yUNd_h"
   },
   "source": [
    "1.   Crie um algoritmo que solicite o nome do usuário e printe na sequência: \"Bem vindo(a), <nome do usuário>\" (fácil)\n"
   ]
  },
  {
   "cell_type": "code",
   "execution_count": 3,
   "metadata": {
    "colab": {},
    "colab_type": "code",
    "id": "CWbtywdkNjoj"
   },
   "outputs": [
    {
     "name": "stdin",
     "output_type": "stream",
     "text": [
      "Qual é teu nome, imundiçado?  João\n"
     ]
    },
    {
     "name": "stdout",
     "output_type": "stream",
     "text": [
      "Bem vindo(a), João.\n"
     ]
    }
   ],
   "source": [
    "# Exercício 1\n",
    "nome = input(\"Qual é teu nome, imundiçado? \")\n",
    "\n",
    "print(f\"Bem vindo(a), {nome}.\")"
   ]
  },
  {
   "cell_type": "markdown",
   "metadata": {
    "colab_type": "text",
    "id": "5Yqygyq0NgfA"
   },
   "source": [
    "2.   Crie um algoritmo que solicite do usuário nome e idade, printando na tela as informações organizadas em 1 frase. (médio)"
   ]
  },
  {
   "cell_type": "code",
   "execution_count": 5,
   "metadata": {
    "colab": {},
    "colab_type": "code",
    "id": "jrrT7mllNluS"
   },
   "outputs": [
    {
     "name": "stdin",
     "output_type": "stream",
     "text": [
      "Qual é teu nome, carniça?  Pedro\n",
      "Tu tem quandos anos, mizera?  23\n"
     ]
    },
    {
     "name": "stdout",
     "output_type": "stream",
     "text": [
      "Sapeste se chama Pedro e tem 23 anos.\n"
     ]
    }
   ],
   "source": [
    "# Exercício 2\n",
    "nome = input(\"Qual é teu nome, carniça? \")\n",
    "idade = int(input(\"Tu tem quandos anos, mizera? \"))\n",
    "\n",
    "print(f\"Sapeste se chama {nome} e tem {idade} anos.\")"
   ]
  },
  {
   "cell_type": "markdown",
   "metadata": {
    "colab_type": "text",
    "id": "HhGHhXI8NiJG"
   },
   "source": [
    "3.   Crie um algoritmo que solicite uma palavra e verifique se é um palíndromo, printando na tela o resultado (difícil)"
   ]
  },
  {
   "cell_type": "code",
   "execution_count": 13,
   "metadata": {
    "colab": {},
    "colab_type": "code",
    "id": "WwrspHX1Nmp6"
   },
   "outputs": [
    {
     "name": "stdin",
     "output_type": "stream",
     "text": [
      "Digita algum troço aí, abestado:  socorrammesubinoonibusemmarrocos\n"
     ]
    },
    {
     "name": "stdout",
     "output_type": "stream",
     "text": [
      "'O contrário de socorrammesubinoonibusemmarrocos' é 'socorrammesubinoonibusemmarrocos', então esse troço é palíndromo\n"
     ]
    }
   ],
   "source": [
    "# Exercício 3\n",
    "palavra = input(\"Digita algum troço aí, abestado: \")\n",
    "\n",
    "arvalap = palavra[::-1]\n",
    "\n",
    "if(palavra == arvalap):\n",
    "    print(f\"'O contrário de {palavra}' é '{arvalap}', então esse troço é palíndromo\")\n",
    "else:\n",
    "    print(f\"'O contrário de {palavra}' é '{arvalap}', então essa peste não é palíndromo\")\n"
   ]
  },
  {
   "cell_type": "markdown",
   "metadata": {
    "colab_type": "text",
    "id": "j43FEtd3NoCc"
   },
   "source": [
    "## **>>> Solução**\n",
    "\n",
    "---\n",
    "\n",
    "Visualize a solução abaixo"
   ]
  },
  {
   "cell_type": "code",
   "execution_count": null,
   "metadata": {
    "colab": {},
    "colab_type": "code",
    "id": "yr2-wMl2Nxro"
   },
   "outputs": [],
   "source": [
    "# Exercício 1\n",
    "nome = input(\"Qual é o seu nome?\")\n",
    "print(f\"Bem vindo(a), {nome}\")"
   ]
  },
  {
   "cell_type": "code",
   "execution_count": null,
   "metadata": {
    "colab": {},
    "colab_type": "code",
    "id": "w1H_EKa7NyqK"
   },
   "outputs": [],
   "source": [
    "# Exercício 2\n",
    "nome = input(\"Qual seu nome?\")\n",
    "idade = input(\"Quantos anos você tem?\")\n",
    "print(f\"Olá, {nome}! Que maravilha, tens {idade} anos e isto é ótimo!\")"
   ]
  },
  {
   "cell_type": "code",
   "execution_count": null,
   "metadata": {
    "colab": {},
    "colab_type": "code",
    "id": "Kxh_rh1fNy1K"
   },
   "outputs": [],
   "source": [
    "# Exercício 3\n",
    "x = input(\"Digite 1 palavra:\")\n",
    "if x == x[::-1]:\n",
    "  print(\"Palíndromo!\")\n",
    "else:\n",
    "  print(\"Não é palíndromo!\")"
   ]
  }
 ],
 "metadata": {
  "accelerator": "GPU",
  "colab": {
   "collapsed_sections": [
    "j43FEtd3NoCc"
   ],
   "name": "Strings.ipynb",
   "private_outputs": true,
   "provenance": []
  },
  "kernelspec": {
   "display_name": "Python 3",
   "language": "python",
   "name": "python3"
  },
  "language_info": {
   "codemirror_mode": {
    "name": "ipython",
    "version": 3
   },
   "file_extension": ".py",
   "mimetype": "text/x-python",
   "name": "python",
   "nbconvert_exporter": "python",
   "pygments_lexer": "ipython3",
   "version": "3.7.6"
  }
 },
 "nbformat": 4,
 "nbformat_minor": 4
}
