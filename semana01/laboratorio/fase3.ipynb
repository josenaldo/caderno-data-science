{
  "nbformat": 4,
  "nbformat_minor": 0,
  "metadata": {
    "colab": {
      "name": "Fase3.ipynb",
      "provenance": []
    },
    "kernelspec": {
      "name": "python3",
      "display_name": "Python 3"
    }
  },
  "cells": [
    {
      "cell_type": "markdown",
      "metadata": {
        "id": "CYNAmoj4zSXl",
        "colab_type": "text"
      },
      "source": [
        "Crie um algoritmo em Python que peça uma nota, entre zero e 100. Mostre uma mensagem caso o valor seja inválido e continue pedindo até que o usuário informe um valor válido."
      ]
    },
    {
      "cell_type": "code",
      "metadata": {
        "id": "ViAfpy3GzPN-",
        "colab_type": "code",
        "colab": {}
      },
      "source": [
        "# INSIRA SEU CÓDIGO AQUI"
      ],
      "execution_count": 0,
      "outputs": []
    },
    {
      "cell_type": "markdown",
      "metadata": {
        "id": "gdMis92izSmQ",
        "colab_type": "text"
      },
      "source": [
        "Crie um algoritmo em Python que leia um nome de usuário e a sua senha e não aceite a senha igual ao nome do usuário, mostrando uma mensagem de erro e voltando a pedir as informações.<br>"
      ]
    },
    {
      "cell_type": "code",
      "metadata": {
        "id": "BFpWkdCBz_zh",
        "colab_type": "code",
        "colab": {}
      },
      "source": [
        "# INSIRA SEU CÓDIGO AQUI"
      ],
      "execution_count": 0,
      "outputs": []
    },
    {
      "cell_type": "markdown",
      "metadata": {
        "id": "E_0l_Vx6zSo2",
        "colab_type": "text"
      },
      "source": [
        "Crie um algoritmo em Python que leia e valide as seguintes informações:\n",
        "* Nome: maior que 3 caracteres;\n",
        "* Idade: entre 0 e 150;\n",
        "* Salário: maior que zero;\n",
        "* Sexo: 'f' ou 'm';\n",
        "* Estado Civil: 's', 'c', 'v', 'd';"
      ]
    },
    {
      "cell_type": "code",
      "metadata": {
        "id": "KwJf7XZS0AZW",
        "colab_type": "code",
        "colab": {}
      },
      "source": [
        "# INSIRA SEU CÓDIGO AQUI"
      ],
      "execution_count": 0,
      "outputs": []
    },
    {
      "cell_type": "markdown",
      "metadata": {
        "id": "1i4VCiiczSrL",
        "colab_type": "text"
      },
      "source": [
        "Supondo que a população de um país A seja da ordem de 80000 habitantes com uma taxa anual de crescimento de 3% e que a população de B seja 200000 habitantes com uma taxa de crescimento de 1.5%.<br><br> Crie um algoritmo em Python que calcule e escreva o número de anos necessários para que a população do país A ultrapasse ou iguale a população do país B, mantidas as taxas de crescimento."
      ]
    },
    {
      "cell_type": "code",
      "metadata": {
        "id": "yoW67hjA0BHy",
        "colab_type": "code",
        "colab": {}
      },
      "source": [
        "# INSIRA SEU CÓDIGO AQUI"
      ],
      "execution_count": 0,
      "outputs": []
    },
    {
      "cell_type": "markdown",
      "metadata": {
        "id": "4ep7kezvzStO",
        "colab_type": "text"
      },
      "source": [
        "Desenvolva um gerador de tabuada, capaz de gerar a tabuada de qualquer número inteiro entre 1 a 10. O usuário deve informar de qual numero ele deseja ver a tabuada. A saída deve ser conforme o exemplo abaixo:\n",
        "Tabuada de 5:<br>\n",
        "5 X 1 = 5<br>\n",
        "5 X 2 = 10<br>\n",
        "...<br>\n",
        "5 X 10 = 50<br>"
      ]
    },
    {
      "cell_type": "code",
      "metadata": {
        "id": "6K6IHWdr0Blt",
        "colab_type": "code",
        "colab": {}
      },
      "source": [
        "# INSIRA SEU CÓDIGO AQUI"
      ],
      "execution_count": 0,
      "outputs": []
    },
    {
      "cell_type": "markdown",
      "metadata": {
        "id": "u6__NaXqzeYg",
        "colab_type": "text"
      },
      "source": [
        "Crie um algoritmo em Python que leia três números e mostre o maior e o menor deles."
      ]
    },
    {
      "cell_type": "code",
      "metadata": {
        "id": "mm2L7g3x0Cfx",
        "colab_type": "code",
        "colab": {}
      },
      "source": [
        "# INSIRA SEU CÓDIGO AQUI"
      ],
      "execution_count": 0,
      "outputs": []
    },
    {
      "cell_type": "markdown",
      "metadata": {
        "id": "lIlfG-ATzgOr",
        "colab_type": "text"
      },
      "source": [
        "Crie um algoritmo em Python que peça 2 números, base e expoente, calcule e mostre o primeiro número elevado ao segundo número. Não utilize a função de potência da linguagem."
      ]
    },
    {
      "cell_type": "code",
      "metadata": {
        "id": "-y4pB6br0DD_",
        "colab_type": "code",
        "colab": {}
      },
      "source": [
        "# INSIRA SEU CÓDIGO AQUI"
      ],
      "execution_count": 0,
      "outputs": []
    },
    {
      "cell_type": "markdown",
      "metadata": {
        "id": "Vj4OXsJQziu_",
        "colab_type": "text"
      },
      "source": [
        "Crie um algoritmo em Python que peça 10 números inteiros, calcule e mostre a quantidade de números pares e a quantidade de números impares."
      ]
    },
    {
      "cell_type": "code",
      "metadata": {
        "id": "RmApGpg30D00",
        "colab_type": "code",
        "colab": {}
      },
      "source": [
        "# INSIRA SEU CÓDIGO AQUI"
      ],
      "execution_count": 0,
      "outputs": []
    },
    {
      "cell_type": "markdown",
      "metadata": {
        "id": "e7id8Ewgzlow",
        "colab_type": "text"
      },
      "source": [
        "Um funcionário de uma empresa recebe aumento salarial anualmente: Sabe-se que:\n",
        "Esse funcionário foi contratado em 1995, com salário inicial de R$ 1.000,00;\n",
        "Em 1996 recebeu aumento de 1,5% sobre seu salário inicial;\n",
        "A partir de 1997 (inclusive), os aumentos salariais sempre correspondem ao dobro do percentual do ano anterior. Crie um algoritmo em Python que determine o salário atual desse funcionário. Após concluir isto, altere o programa permitindo que o usuário digite o salário inicial do funcionário."
      ]
    },
    {
      "cell_type": "code",
      "metadata": {
        "id": "Kl0ainsv0Eif",
        "colab_type": "code",
        "colab": {}
      },
      "source": [
        "# INSIRA SEU CÓDIGO AQUI"
      ],
      "execution_count": 0,
      "outputs": []
    },
    {
      "cell_type": "markdown",
      "metadata": {
        "id": "5u9i4kzm-itX",
        "colab_type": "text"
      },
      "source": [
        "Crie um algoritmo em Python com uma função que necessite de um argumento. A função retorna o valor de caractere ‘P’, se seu argumento for positivo, e ‘N’, se seu argumento for zero ou negativo."
      ]
    },
    {
      "cell_type": "code",
      "metadata": {
        "id": "WNt8CLa2-rGt",
        "colab_type": "code",
        "colab": {}
      },
      "source": [
        "# INSIRA SEU CÓDIGO AQUI"
      ],
      "execution_count": 0,
      "outputs": []
    },
    {
      "cell_type": "markdown",
      "metadata": {
        "id": "CHiYMSOJ-rSY",
        "colab_type": "text"
      },
      "source": [
        "Construa uma função que receba uma data no formato DD/MM/AAAA e devolva uma string no formato D de mesPorExtenso de AAAA. Opcionalmente, valide a data e retorne NULL caso a data seja inválida."
      ]
    },
    {
      "cell_type": "code",
      "metadata": {
        "id": "6Ukxx6gQ-r4-",
        "colab_type": "code",
        "colab": {}
      },
      "source": [
        "# INSIRA SEU CÓDIGO AQUI"
      ],
      "execution_count": 0,
      "outputs": []
    },
    {
      "cell_type": "markdown",
      "metadata": {
        "id": "AzUYbZ8A-zj7",
        "colab_type": "text"
      },
      "source": [
        "Crie uma classe que modele uma pessoa:<br>\n",
        "\n",
        "Atributos: nome, idade, peso e altura<br>\n",
        "Métodos: Envelhercer, engordar, emagrecer, crescer.<br>\n",
        "<br>Obs: Por padrão, a cada ano que nossa pessoa envelhece, sendo a idade dela menor que 21 anos, ela deve crescer 0,5 cm."
      ]
    },
    {
      "cell_type": "code",
      "metadata": {
        "id": "qobhV-FC-zRS",
        "colab_type": "code",
        "colab": {}
      },
      "source": [
        "# INSIRA SEU CÓDIGO AQUI"
      ],
      "execution_count": 0,
      "outputs": []
    }
  ]
}